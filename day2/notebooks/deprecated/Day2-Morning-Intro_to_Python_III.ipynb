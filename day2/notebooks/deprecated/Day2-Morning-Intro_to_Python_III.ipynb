{
 "cells": [
  {
   "cell_type": "markdown",
   "metadata": {},
   "source": [
    "# Day 2 - Intro to Python III"
   ]
  },
  {
   "cell_type": "markdown",
   "metadata": {},
   "source": [
    "## Classes and Objects - An introduction to object-oriented programming"
   ]
  },
  {
   "cell_type": "markdown",
   "metadata": {},
   "source": [
    "\"Object oriented programming\" is a very useful and important concept in python programming. Objects are individual data structures that you can create and define to encapsulate variables and functions for any type of data that you would like to analyze or work with. Objects get their variables and functions from 'Classes' which act as templates to define and create individual objects. "
   ]
  },
  {
   "cell_type": "markdown",
   "metadata": {},
   "source": [
    "<pre>\n",
    "# Class Definition Syntax\n",
    "\n",
    "class ClassName:\n",
    "    statement-1\n",
    "    .\n",
    "    .\n",
    "    .\n",
    "    statement-n\n",
    "</pre>"
   ]
  },
  {
   "cell_type": "markdown",
   "metadata": {},
   "source": [
    "Below is an example of a class definition that can be used to create different _instances_ (objects) of a type `Ball`"
   ]
  },
  {
   "cell_type": "code",
   "execution_count": 30,
   "metadata": {},
   "outputs": [],
   "source": [
    "import math\n",
    "\n",
    "class Ball:\n",
    "    def __init__(self, \n",
    "                 radius, \n",
    "                 color):\n",
    "        self.radius = radius\n",
    "        self.color = color\n",
    "    \n",
    "    def diameter(self):\n",
    "        return(self.radius*2)\n",
    "    \n",
    "    def area(self):\n",
    "        return(self.radius*(4*math.pi))\n",
    "    \n",
    "    def volume(self):\n",
    "        return((4/3)*math.pi*(self.radius**3))"
   ]
  },
  {
   "cell_type": "code",
   "execution_count": 36,
   "metadata": {},
   "outputs": [
    {
     "data": {
      "text/plain": [
       "<__main__.Ball at 0x7f925052c438>"
      ]
     },
     "execution_count": 36,
     "metadata": {},
     "output_type": "execute_result"
    }
   ],
   "source": [
    "tennis = Ball(radius=1.25,color=\"yellow\")\n",
    "\n",
    "tennis"
   ]
  },
  {
   "cell_type": "markdown",
   "metadata": {},
   "source": [
    "Variables within an object instance can be accessed using the `.` operator"
   ]
  },
  {
   "cell_type": "code",
   "execution_count": 37,
   "metadata": {},
   "outputs": [
    {
     "data": {
      "text/plain": [
       "1.25"
      ]
     },
     "execution_count": 37,
     "metadata": {},
     "output_type": "execute_result"
    }
   ],
   "source": [
    "tennis.radius"
   ]
  },
  {
   "cell_type": "code",
   "execution_count": 38,
   "metadata": {},
   "outputs": [
    {
     "data": {
      "text/plain": [
       "'yellow'"
      ]
     },
     "execution_count": 38,
     "metadata": {},
     "output_type": "execute_result"
    }
   ],
   "source": [
    "tennis.color"
   ]
  },
  {
   "cell_type": "markdown",
   "metadata": {},
   "source": [
    "And we can use the embedded functions (which are now called 'methods' if they are attached to a specific object) to perform operations on individual objects.  For example, we can use the `volume()` method to calculate the volume of the `tennis` `Ball` instance."
   ]
  },
  {
   "cell_type": "code",
   "execution_count": 39,
   "metadata": {},
   "outputs": [
    {
     "data": {
      "text/plain": [
       "8.18123086872342"
      ]
     },
     "execution_count": 39,
     "metadata": {},
     "output_type": "execute_result"
    }
   ],
   "source": [
    "tennis.volume()"
   ]
  },
  {
   "cell_type": "markdown",
   "metadata": {},
   "source": [
    "Note that since `volume` is a method (function) and not a variable, it still requires the trailing parentheses."
   ]
  },
  {
   "cell_type": "markdown",
   "metadata": {},
   "source": [
    "Now that we have a definition for the class `Ball`, we can use this to create different object instances that have the same variables and methods defined.  Each instance however, can have different properties assigned"
   ]
  },
  {
   "cell_type": "code",
   "execution_count": 42,
   "metadata": {},
   "outputs": [
    {
     "data": {
      "text/plain": [
       "'red'"
      ]
     },
     "execution_count": 42,
     "metadata": {},
     "output_type": "execute_result"
    }
   ],
   "source": [
    "basketball = Ball(radius=4.7,color=\"red\")\n",
    "\n",
    "basketball.color"
   ]
  },
  {
   "cell_type": "code",
   "execution_count": 43,
   "metadata": {},
   "outputs": [
    {
     "data": {
      "text/plain": [
       "59.06194188748811"
      ]
     },
     "execution_count": 43,
     "metadata": {},
     "output_type": "execute_result"
    }
   ],
   "source": [
    "basketball.area()"
   ]
  },
  {
   "cell_type": "markdown",
   "metadata": {},
   "source": [
    "### Builtin/default methods"
   ]
  },
  {
   "cell_type": "markdown",
   "metadata": {},
   "source": [
    "There are many default methods that can be adopted to increase the utility of our objects.  For example, the `__init__()` method that we have already defined is a useful method that helps with the creation of an object by defining what the minimum arguments should be when initializing a new instance of our class.  Other default methods can be modified to improve the utility of our class. For example, the standard output when an instance of `Ball` is called is a rather ugly pythonic description of the class"
   ]
  },
  {
   "cell_type": "code",
   "execution_count": 46,
   "metadata": {},
   "outputs": [
    {
     "data": {
      "text/plain": [
       "<__main__.Ball at 0x7f925052c438>"
      ]
     },
     "execution_count": 46,
     "metadata": {},
     "output_type": "execute_result"
    }
   ],
   "source": [
    "tennis"
   ]
  },
  {
   "cell_type": "markdown",
   "metadata": {},
   "source": [
    "If we want to make a more reader-friendly description, we can use one of the many built-in methods for class definitions to change the 'representation' of instances of our class, `__repr__(self)`.  This will output a string of our choosing when we call the object directly.  This can be helpful to present some of the arguments, or to provide a readable 'name' for your object."
   ]
  },
  {
   "cell_type": "code",
   "execution_count": 50,
   "metadata": {},
   "outputs": [],
   "source": [
    "class Ball:\n",
    "    def __init__(self, \n",
    "                 radius, \n",
    "                 color):\n",
    "        self.radius = radius\n",
    "        self.color = color\n",
    "        \n",
    "    def __repr__(self):\n",
    "        return(f\"I am a {self.color} ball with a diameter of {self.diameter()} units\")\n",
    "    \n",
    "    def diameter(self):\n",
    "        return(self.radius*2)\n",
    "    \n",
    "    def area(self):\n",
    "        return(self.radius*(4*math.pi))\n",
    "    \n",
    "    def volume(self):\n",
    "        return((4/3)*math.pi*(self.radius**3))"
   ]
  },
  {
   "cell_type": "code",
   "execution_count": 51,
   "metadata": {},
   "outputs": [
    {
     "data": {
      "text/plain": [
       "I am a yellow ball with a diameter of 3.0 units"
      ]
     },
     "execution_count": 51,
     "metadata": {},
     "output_type": "execute_result"
    }
   ],
   "source": [
    "tennis = Ball(radius=1.5,color=\"yellow\")\n",
    "\n",
    "tennis"
   ]
  },
  {
   "cell_type": "markdown",
   "metadata": {},
   "source": [
    "## Scopes and Namespaces"
   ]
  },
  {
   "cell_type": "markdown",
   "metadata": {},
   "source": []
  },
  {
   "cell_type": "markdown",
   "metadata": {},
   "source": []
  },
  {
   "cell_type": "markdown",
   "metadata": {},
   "source": []
  },
  {
   "cell_type": "markdown",
   "metadata": {},
   "source": []
  },
  {
   "cell_type": "markdown",
   "metadata": {},
   "source": []
  },
  {
   "cell_type": "markdown",
   "metadata": {},
   "source": []
  },
  {
   "cell_type": "markdown",
   "metadata": {},
   "source": []
  }
 ],
 "metadata": {
  "kernelspec": {
   "display_name": "Python 3",
   "language": "python",
   "name": "python3"
  },
  "language_info": {
   "codemirror_mode": {
    "name": "ipython",
    "version": 3
   },
   "file_extension": ".py",
   "mimetype": "text/x-python",
   "name": "python",
   "nbconvert_exporter": "python",
   "pygments_lexer": "ipython3",
   "version": "3.6.11"
  }
 },
 "nbformat": 4,
 "nbformat_minor": 4
}
