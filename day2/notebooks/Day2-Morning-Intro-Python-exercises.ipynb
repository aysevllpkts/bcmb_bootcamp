{
 "cells": [
  {
   "cell_type": "markdown",
   "source": [
    "### Day 2 - Warming up with Python"
   ],
   "metadata": {}
  },
  {
   "cell_type": "markdown",
   "source": [
    "Here are 25 numbers drawn from a normal distribution. Calculate the mean, standard deviation, and variance of the set. Do the mean calculation manually, and then use the built-in functions provided in the **statistics** module for the others.\n",
    "\n",
    "**Hint**: The functions *sum*, *len*, *statistics.stdev*, and *statistics.variance* will be useful. Use the *help()* command to learn more about them, if needed."
   ],
   "metadata": {}
  },
  {
   "cell_type": "code",
   "execution_count": 4,
   "source": [
    "import statistics\n",
    "\n",
    "help(len)\n",
    " \n",
    "my_samples = [8.343003931051403, 10.983139316643154, 10.028263738536845, 10.030605626392367, 10.479262011457655, 11.003444821427529,\n",
    "  11.15941163985765, 8.572931560317459, 10.734225011659504, 9.42236611877579, 9.428287552964232, 12.751301969731728, 9.175698518027408,\n",
    "   13.277810638831117, 10.36739357419826, 9.586251108314395, 10.427168797319448, 9.598709847965262, 8.687074988292876, 9.964044897601617,\n",
    "    10.452622225611169, 10.180824722303885, 9.671712590995602, 11.232140649632495, 12.024224902990818]\n",
    " \n",
    " ## your code here\n",
    " ## help(statistics)\n",
    " ## sample_mean = statistics.mean()"
   ],
   "outputs": [
    {
     "output_type": "stream",
     "name": "stdout",
     "text": [
      "Help on built-in function len in module builtins:\n",
      "\n",
      "len(obj, /)\n",
      "    Return the number of items in a container.\n",
      "\n"
     ]
    }
   ],
   "metadata": {}
  },
  {
   "cell_type": "markdown",
   "source": [
    "From *my_samples* above, print out the following:\n",
    "- The first five elements (remember that python begins with index 0)\n",
    "- The last five elements\n",
    "- The 13th and 14th elements"
   ],
   "metadata": {}
  },
  {
   "cell_type": "code",
   "execution_count": null,
   "source": [
    "\n",
    "## your code here"
   ],
   "outputs": [],
   "metadata": {}
  },
  {
   "cell_type": "markdown",
   "source": [
    "Assign integer values to the variables x and y. Write an if/else/elif control statement that prints out which variable is greater (or if they are equal), along with both their values. For example: \n",
    "\n",
    "'The value of x is 45. The value of y is 3. x is greater than y\""
   ],
   "metadata": {}
  },
  {
   "cell_type": "code",
   "execution_count": 2,
   "source": [
    "## your code here\n"
   ],
   "outputs": [],
   "metadata": {}
  },
  {
   "cell_type": "markdown",
   "source": [
    "Create a dictionary that holds the following info about you:\n",
    "- First Name\n",
    "- Graduate school\n",
    "- Graduate program\n",
    "- Favorite model organism\n",
    "\n",
    "Use the 'keys' attribute to print out your dictionary keys.\n"
   ],
   "metadata": {}
  },
  {
   "cell_type": "code",
   "execution_count": null,
   "source": [
    "my_dict = dict()\n",
    "\n",
    "## your code here"
   ],
   "outputs": [],
   "metadata": {}
  },
  {
   "cell_type": "markdown",
   "source": [
    "Create a new string holding your model organsism, and add the string \"is my favorite organism\" to the end. Then update your dictionary."
   ],
   "metadata": {}
  },
  {
   "cell_type": "code",
   "execution_count": null,
   "source": [
    "## your code here\n",
    "## TODO: add toupper hint"
   ],
   "outputs": [],
   "metadata": {}
  },
  {
   "cell_type": "markdown",
   "source": [
    "The following lists are the majors offered by two different universities. Print the following:\n",
    "- Majors offered by both schools (intersection)\n",
    "- Majors offered by either schools (union)\n",
    "- Majors offered only by school A (difference)\n",
    "- Majors offered only by school B (difference)\n",
    "\n",
    "**Hint**: lists are iterable, so can be used in for loops! Also remember the 'in' operator.\n"
   ],
   "metadata": {}
  },
  {
   "cell_type": "code",
   "execution_count": null,
   "source": [
    "A = [\"Biochemistry\",\"Molecular Biology\",\"Genetics\", \"Biostatistics\",\"Histopathology\"]\n",
    "B = [\"Mathematics\",\"Physics\",\"Biostatistics\",\"Biochemistry\",\"Ethics\"]\n",
    "\n",
    "## your code here"
   ],
   "outputs": [],
   "metadata": {}
  },
  {
   "cell_type": "markdown",
   "source": [
    "The first hundred amino acids of Green Fluorescent Protein (https://www.ncbi.nlm.nih.gov/protein/QAA95706.1) are MSKGEELFTGVVPILVELDGDVNGHKFSVSGEGEGDATYGKLTLKFICTTGKLPVPWPTLVTTFTYGVQCFSRYPDHMKQHDFFKSAMPEGYVQERTIFF. \n",
    "- How many Leucines (L) are there?\n",
    "- How many times does any amino acid appear twice in a row? You don't need to keep track of which amino acids, just return the total number.\n",
    "\n",
    "Hint: define a variable *repeat_count* with a value of zero, and update it when a repeat occurs. Strings are also iterable!"
   ],
   "metadata": {}
  },
  {
   "cell_type": "code",
   "execution_count": 4,
   "source": [
    "gfp_100 = 'MSKGEELFTGVVPILVELDGDVNGHKFSVSGEGEGDATYGKLTLKFICTTGKLPVPWPTLVTTFTYGVQCFSRYPDHMKQHDFFKSAMPEGYVQERTIFF'\n",
    "\n",
    "## repeat_count = 0\n",
    "## your code here"
   ],
   "outputs": [],
   "metadata": {}
  }
 ],
 "metadata": {
  "interpreter": {
   "hash": "f830f5482817da8c94e7b92359ddd59f62b3b721ee2e7f2ba7b076c4827b6548"
  },
  "kernelspec": {
   "name": "python3",
   "display_name": "Python 3.8.5 64-bit ('base': conda)"
  },
  "language_info": {
   "codemirror_mode": {
    "name": "ipython",
    "version": 3
   },
   "file_extension": ".py",
   "mimetype": "text/x-python",
   "name": "python",
   "nbconvert_exporter": "python",
   "pygments_lexer": "ipython3",
   "version": "3.8.5"
  }
 },
 "nbformat": 4,
 "nbformat_minor": 4
}