{
 "cells": [
  {
   "cell_type": "markdown",
   "source": [
    "### Day 2 - Warming up with Python"
   ],
   "metadata": {}
  },
  {
   "cell_type": "markdown",
   "source": [
    "Here are 25 numbers drawn from a normal distribution. Calculate the mean, standard deviation, and variance of the set. Do the calculations manually, and then use the built-in functions provided in the **statistics** module."
   ],
   "metadata": {}
  },
  {
   "cell_type": "code",
   "execution_count": null,
   "source": [
    "import statistics\n",
    "help(statistics)\n",
    " \n",
    "my_samples = [8.343003931051403, 10.983139316643154, 10.028263738536845, 10.030605626392367, 10.479262011457655, 11.003444821427529,\n",
    "  11.15941163985765, 8.572931560317459, 10.734225011659504, 9.42236611877579, 9.428287552964232, 12.751301969731728, 9.175698518027408,\n",
    "   13.277810638831117, 10.36739357419826, 9.586251108314395, 10.427168797319448, 9.598709847965262, 8.687074988292876, 9.964044897601617,\n",
    "    10.452622225611169, 10.180824722303885, 9.671712590995602, 11.232140649632495, 12.024224902990818]\n",
    " \n",
    " ## your code here\n",
    " ## sample_mean = statistics.mean()"
   ],
   "outputs": [],
   "metadata": {}
  },
  {
   "cell_type": "markdown",
   "source": [
    "Create a dictionary that holds the following info about you:\n",
    "- First Name\n",
    "- Graduate school\n",
    "- Graduate program\n",
    "- Favorite model organism\n",
    "\n",
    "Use the 'keys' attribute to print out your dictionary keys.\n"
   ],
   "metadata": {}
  },
  {
   "cell_type": "code",
   "execution_count": null,
   "source": [
    "my_dict = dict()\n",
    "\n",
    "## your code here"
   ],
   "outputs": [],
   "metadata": {}
  },
  {
   "cell_type": "markdown",
   "source": [
    "Change every other letter of your favorite model organism to be capitalized, and then update your dictionary. Remember that each letter in a string can be indexed in for loops."
   ],
   "metadata": {}
  },
  {
   "cell_type": "code",
   "execution_count": null,
   "source": [
    "## your code here\n",
    "## TODO: This might be harder than i thought it would be"
   ],
   "outputs": [],
   "metadata": {}
  },
  {
   "cell_type": "markdown",
   "source": [
    "The first hundred amino acids of Green Fluorescent Protein (https://www.ncbi.nlm.nih.gov/protein/QAA95706.1) are MSKGEELFTGVVPILVELDGDVNGHKFSVSGEGEGDATYGKLTLKFICTTGKLPVPWPTLVTTFTYGVQCFSRYPDHMKQHDFFKSAMPEGYVQERTIFF. \n",
    "- How many Leucines (L) are there?\n",
    "- How many times does any amino acid appear twice in a row?"
   ],
   "metadata": {}
  },
  {
   "cell_type": "code",
   "execution_count": 4,
   "source": [
    "gfp_100 = 'MSKGEELFTGVVPILVELDGDVNGHKFSVSGEGEGDATYGKLTLKFICTTGKLPVPWPTLVTTFTYGVQCFSRYPDHMKQHDFFKSAMPEGYVQERTIFF'\n",
    "\n",
    "### your code here"
   ],
   "outputs": [],
   "metadata": {}
  }
 ],
 "metadata": {
  "orig_nbformat": 4,
  "language_info": {
   "name": "python",
   "version": "3.8.5",
   "mimetype": "text/x-python",
   "codemirror_mode": {
    "name": "ipython",
    "version": 3
   },
   "pygments_lexer": "ipython3",
   "nbconvert_exporter": "python",
   "file_extension": ".py"
  },
  "kernelspec": {
   "name": "python3",
   "display_name": "Python 3.8.5 64-bit ('base': conda)"
  },
  "interpreter": {
   "hash": "f830f5482817da8c94e7b92359ddd59f62b3b721ee2e7f2ba7b076c4827b6548"
  }
 },
 "nbformat": 4,
 "nbformat_minor": 2
}