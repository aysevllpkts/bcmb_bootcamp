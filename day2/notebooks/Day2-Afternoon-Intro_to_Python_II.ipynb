{
 "cells": [
  {
   "cell_type": "markdown",
   "source": [
    "# Day 2.1 - Introduction to Python II"
   ],
   "metadata": {}
  },
  {
   "cell_type": "markdown",
   "source": [
    "## List comprehension\n",
    "Remember that a list is defined by items within square brackets `[]`\n",
    "\n",
    "In python you can use 'list comprehension' to create new lists algorithmically by iterating over another list. \n",
    "This is a conceptual extension of a `for` loop, with differences in syntax (how it is written) and that it automatically returns a `list`.\n"
   ],
   "metadata": {}
  },
  {
   "cell_type": "code",
   "execution_count": 15,
   "source": [
    "# Example for loop\n",
    "solutions = []\n",
    "for x in range(10):\n",
    "    solutions.append(5*x)\n",
    "     \n",
    "# List comprehension version\n",
    "solutions = [5*x for x in range(10)] # More concise, and faster!"
   ],
   "outputs": [],
   "metadata": {}
  },
  {
   "cell_type": "markdown",
   "source": [
    "List comprehension statements can also include an `if` conditional statement, just like `for` loops.\n"
   ],
   "metadata": {}
  },
  {
   "cell_type": "code",
   "execution_count": 21,
   "source": [
    "[num for num in solutions] #returns itself\n",
    "[num for num in solutions if num%2 == 0] #returns only even elements"
   ],
   "outputs": [
    {
     "output_type": "execute_result",
     "data": {
      "text/plain": [
       "[0, 10, 20, 30, 40]"
      ]
     },
     "metadata": {},
     "execution_count": 21
    }
   ],
   "metadata": {}
  },
  {
   "cell_type": "markdown",
   "source": [
    "The `range` function seen above generates an object of type `range` that can be used as an iterable in a variety of contexts. It takes up to three arguments, which are the lower bound (inclusive), the upper bound (exclusive, just like slicing), and a step size. This concept works only with integers - you can't define a `range` between two floats!"
   ],
   "metadata": {}
  },
  {
   "cell_type": "code",
   "execution_count": 25,
   "source": [
    "type(range(0,10))\n",
    "\n",
    "print(range(0,10)) #a range object\n",
    "\n",
    "print(list(range(0,10))) #can be expanded by casting to a list"
   ],
   "outputs": [
    {
     "output_type": "stream",
     "name": "stdout",
     "text": [
      "range(0, 10)\n",
      "[0, 1, 2, 3, 4, 5, 6, 7, 8, 9]\n"
     ]
    }
   ],
   "metadata": {}
  },
  {
   "cell_type": "code",
   "execution_count": 27,
   "source": [
    "# examples of range(x,y,z)\n",
    "seq = [x for x in range(20)] #If you only provide range() with one integer, it defaults to starting at 0\n",
    "\n",
    "# use range to find every third number between 1 and 30\n",
    "??\n",
    "\n",
    "# use list comprehension to find the odd elements within that set\n",
    "??"
   ],
   "outputs": [],
   "metadata": {}
  },
  {
   "cell_type": "markdown",
   "source": [
    "### List comprehension examples using variables other than numbers\n"
   ],
   "metadata": {}
  },
  {
   "cell_type": "code",
   "execution_count": 4,
   "source": [
    "Folks = [(\"Jared\",\"Human Genetics\",\"2024\"),\n",
    "(\"Nora\", \"BCMB\",\"2025\"),\n",
    "(\"Loyal\", \"DGM\",\"Indefinite\")]\n",
    "\n",
    "[x[1] for x in Folks]\n"
   ],
   "outputs": [
    {
     "output_type": "execute_result",
     "data": {
      "text/plain": [
       "['Human Genetics', 'BCMB', 'DGM']"
      ]
     },
     "metadata": {},
     "execution_count": 4
    }
   ],
   "metadata": {}
  },
  {
   "cell_type": "code",
   "execution_count": null,
   "source": [],
   "outputs": [],
   "metadata": {}
  },
  {
   "cell_type": "markdown",
   "source": [
    "## Functions\n",
    "Many times when writing programs, you will find yourself doing the same task(s) over and over again. Functions allow you to create reuseable pieces of your programs so you can run a block of specificed code anywhere in your program, as many times as you need, with any modifications or variables that you might need. As an example, lets start by figuring out what the GC% is for a given nucleic acid string.  To do this, we will need to learn the length of the oligonucleotide sequence, as well as the number of 'G' and 'C' bases.  Lets start by figuring out a way to do this for one DNA sequence."
   ],
   "metadata": {}
  },
  {
   "cell_type": "code",
   "execution_count": null,
   "source": [
    "dna = 'ATTAGCGTATTCGAGCTATCGATCTAGCGAGCTAGCTATCAGCGACGTACG'\n",
    "\n",
    "dnaLength = len(dna)\n",
    "print(f'Length of dna: {dnaLength}')\n",
    "\n",
    "nG = ??\n",
    "print(f'Number of Gs: {nG}')\n",
    "\n",
    "nC = ??\n",
    "print(f'Number of Cs: {nC}')\n",
    "\n",
    "nGC = ??\n",
    "\n",
    "GC_content = (nGC/dnaLength)*100\n",
    "print(GC_content)"
   ],
   "outputs": [],
   "metadata": {}
  },
  {
   "cell_type": "markdown",
   "source": [
    "While that's not terribly tedious, what if we needed to do this for 10,000 different dna sequences? We will definitely need a way to more quickly perform these actions. What we need to do is 'functionalize' this process so we can effectively turn it into a reuseable command. So lets create a function to do all of this for us. We start by defining the function with the `def` statement to give the function a name, followed by a pair of parentheses `()` where we can name a few 'parameters' (another name for variables passed to a function) that we will use within our function. This is then followed by the code block to execute when we 'call' the function. At the end of the function, we specify what values we want to return with `return()`."
   ],
   "metadata": {}
  },
  {
   "cell_type": "code",
   "execution_count": null,
   "source": [
    "def getGC(seq):\n",
    "    dnaLength = len(seq)\n",
    "    nG = ??\n",
    "    nC = ??\n",
    "    nGC = ??\n",
    "    GC_content = (nGC/dnaLength)*100\n",
    "    return(GC_content)"
   ],
   "outputs": [],
   "metadata": {}
  },
  {
   "cell_type": "markdown",
   "source": [
    "Once we've created our function, we can then call it as many times as we want with different values passed to the `seq` argument as needed. ** Note the terminology difference: the names given in the function definition are called parameters, but the values you supply in the function call are called arguments. **"
   ],
   "metadata": {}
  },
  {
   "cell_type": "code",
   "execution_count": null,
   "source": [
    "gc = getGC(dna)\n",
    "print(gc)"
   ],
   "outputs": [],
   "metadata": {}
  },
  {
   "cell_type": "markdown",
   "source": [
    "Now try and use your function within a `for` loop to iterate over a `list` of different DNA sequences"
   ],
   "metadata": {}
  },
  {
   "cell_type": "code",
   "execution_count": null,
   "source": [
    "\n",
    "myDNASet = [\n",
    "            'ACTGATGCTAGCTGACTGATCTAGCTGA',\n",
    "            'TGCATTTTCGAGCTATCGAGCATTCTACGTACT',\n",
    "            'CACTATCTACGGATCGGAGCGGATTCGTAGCTATGC',\n",
    "            'GTATCGGATCTAGCGGCGGCATTATCG'\n",
    "           ] # this is a list of strings, each containing a DNA sequence.\n",
    "\n",
    "for ...\n"
   ],
   "outputs": [],
   "metadata": {}
  },
  {
   "cell_type": "markdown",
   "source": [
    "When you declare variables within a function definition, they become completely isolated from any variables you may have created outside the definition. In this case, all variables created within a function definition are considered 'local'.  You cannot access them from outside the function definition, and they don't override any other variables either. This is called the 'scope' of a variable. All variables have the scope of the code block in which they are declared. There are ways to change this, but for now we just need to realize that there are in fact different scopes."
   ],
   "metadata": {}
  },
  {
   "cell_type": "markdown",
   "source": [
    "When defining a function, you may often want to set default values for your parameters, and or make some parameters optional. You can also use 'keyword' arguments can specify them directly when you call a function like so:"
   ],
   "metadata": {}
  },
  {
   "cell_type": "code",
   "execution_count": null,
   "source": [
    "def checkDNA(seq, query='AGC'): #checks to see if the DNA sequence has a specific substring\n",
    "    return(query in seq)\n",
    "\n",
    "print(checkDNA(dna))\n",
    "\n",
    "print(checkDNA(dna,query='TGCA'))\n",
    "    "
   ],
   "outputs": [],
   "metadata": {}
  },
  {
   "cell_type": "markdown",
   "source": [
    "Now lets try and create a new function that takes a DNA sequence as an argument and calculates the melting temperature (the temperature at which two DNA strands will separate from each other). This property is a function of the DNA sequence itself. For sequences less than 14 nucleotides the formula is: `Tm= (A+T) * 2 + (G+C) * 4`. For sequences longer than 13 nucleotides in length, there is a different equation: `Tm= 64.9 +41*(G+C-16.4)/(A+T+G+C)`. In each equation, `A, T, G, and C` correspond to the number of each nucleotide in the DNA string. Can you define a single function that can test a DNA sequence of any length?"
   ],
   "metadata": {}
  },
  {
   "cell_type": "code",
   "execution_count": null,
   "source": [
    "# Define and use your function below. Test your function by looping through the sequences in the file 'test.fa'\n",
    "\n",
    "\n",
    "\n",
    "\n"
   ],
   "outputs": [],
   "metadata": {}
  },
  {
   "cell_type": "markdown",
   "source": [
    "## Importing modules\n",
    "One of the more useful features of python, as with many other languages, is that you can add features, tools, data, etc to extend the functionality of python using _modules_. Python has a very large and diverse user base that has already developed hundreds (thousands?) of modules to perform broadly useful tasks, or very specialized tasks for different needs. You can also develop your own modules to split projects/workflows in to manageable pieces for easier maintenance and reusability.\n",
    "\n",
    "A module is nothing more than python code. Within a module, you can define classes (objects), functions, and variables. A module is a file containing Python definitions and statements. The file name is the module name with the suffix .py appended. Any existing python file can be referenced as a module and the elements within can then be used. For example, if you have a python file named `sequencing.py` you can import the file/module with the name `sequencing`.\n",
    "\n",
    "To use a module in your code you must first tell python where to find the module. To do this, we use the command `import`"
   ],
   "metadata": {}
  },
  {
   "cell_type": "code",
   "execution_count": null,
   "source": [
    "import math"
   ],
   "outputs": [],
   "metadata": {}
  },
  {
   "cell_type": "markdown",
   "source": [
    "This tells the python interpreter to load all of the functions and elements found in the `math` module into the current session. `math` is a 'standard module' that is included with python.  To use a specific function or variable defined in `math` you can call it using the dot (`.`) operator along with the module name"
   ],
   "metadata": {}
  },
  {
   "cell_type": "code",
   "execution_count": null,
   "source": [
    "a = 25\n",
    "math.sqrt(a)"
   ],
   "outputs": [],
   "metadata": {}
  },
  {
   "cell_type": "code",
   "execution_count": null,
   "source": [
    "math.cos(a)"
   ],
   "outputs": [],
   "metadata": {}
  },
  {
   "cell_type": "code",
   "execution_count": null,
   "source": [
    "math.factorial(a)"
   ],
   "outputs": [],
   "metadata": {}
  },
  {
   "cell_type": "markdown",
   "source": [
    "It is important to be aware of modules as they can often save you from having to re-write or re-invent code that others have already solved. It is arguably the basis for the relevance of python as a programming language in the sciences as well!"
   ],
   "metadata": {}
  },
  {
   "cell_type": "markdown",
   "source": [
    "There are a few syntactically different ways to import a module. You've already seen the direct import method above, but you can also import only the functions you need from a module by using the `from .. import` syntax:"
   ],
   "metadata": {}
  },
  {
   "cell_type": "code",
   "execution_count": null,
   "source": [
    "from math import log10, log\n",
    "log10(a)"
   ],
   "outputs": [],
   "metadata": {}
  },
  {
   "cell_type": "markdown",
   "source": [
    "Here we've imported just two of the functions in the `math` module. Notice that this time, you don't have to use `math.` before calling these functions. You can access them directly without using the module name."
   ],
   "metadata": {}
  },
  {
   "cell_type": "markdown",
   "source": [
    "You can rename the module for brevity or any other reason by using `as` with your import statement."
   ],
   "metadata": {}
  },
  {
   "cell_type": "code",
   "execution_count": null,
   "source": [
    "import datetime as dt\n",
    "\n",
    "today = dt.date.today()\n",
    "print(\"Today is\", today)"
   ],
   "outputs": [],
   "metadata": {}
  },
  {
   "cell_type": "markdown",
   "source": [
    "Here, we imported the datetime module as `dt` . Notice that that the `dt` module defines a class called `date`. Then, we used the `date.today()` function to get the current local date, which is then printed with some accessory text using the `print()` function."
   ],
   "metadata": {}
  },
  {
   "cell_type": "markdown",
   "source": [
    "The `import` function performs two operations: 1) a _search_ for a given package/module and 2) the binding of that module (and its functions/variables/classes) to the current python session. When a module is imported, the interpreter first searches for a built-in module with that name. If it doesn't find one, it then looks for a file with the module name and `.py` in a list of directories identified by the `sys.path` variable"
   ],
   "metadata": {}
  },
  {
   "cell_type": "code",
   "execution_count": 33,
   "source": [
    "import sys\n",
    "sys.path"
   ],
   "outputs": [
    {
     "output_type": "execute_result",
     "data": {
      "text/plain": [
       "['',\n",
       " '/Users/loyalgoff/Google Drive/Work/Goff Lab/Teaching/BCMB/bcmb_bootcamp2020/day1/notebooks',\n",
       " '/Users/loyalgoff/anaconda3/lib/python37.zip',\n",
       " '/Users/loyalgoff/anaconda3/lib/python3.7',\n",
       " '/Users/loyalgoff/anaconda3/lib/python3.7/lib-dynload',\n",
       " '/Users/loyalgoff/anaconda3/lib/python3.7/site-packages',\n",
       " '/Users/loyalgoff/anaconda3/lib/python3.7/site-packages/aeosa',\n",
       " '/Users/loyalgoff/anaconda3/lib/python3.7/site-packages/IPython/extensions',\n",
       " '/Users/loyalgoff/.ipython']"
      ]
     },
     "metadata": {},
     "execution_count": 33
    }
   ],
   "metadata": {}
  },
  {
   "cell_type": "markdown",
   "source": [
    "#### Exercise\n",
    "1. Create a function to calculate the volume of a sphere using the radius as an arugment. (hint: use a module to find $\\pi$)"
   ],
   "metadata": {}
  },
  {
   "cell_type": "code",
   "execution_count": null,
   "source": [],
   "outputs": [],
   "metadata": {}
  },
  {
   "cell_type": "code",
   "execution_count": null,
   "source": [],
   "outputs": [],
   "metadata": {}
  },
  {
   "cell_type": "markdown",
   "source": [
    "## Working with files\n",
    "\n",
    "### Reading/opening files\n",
    "Reading and writing to files in python is achieved through the `open()` function. When you 'open' a file, you are creating a device to communicate with the file on disk. We will need to specify how we would like to interact with the file.  Do we want to read the file ('r') or write to the file ('w'). This is the 'mode' that we will need to specify when we make the call to `open()`"
   ],
   "metadata": {}
  },
  {
   "cell_type": "code",
   "execution_count": null,
   "source": [
    "file = open('Foxp1.gbk',mode = 'r')\n",
    "\n",
    "# iterate through all lines of a file\n",
    "for line in file:\n",
    "    print(line)"
   ],
   "outputs": [],
   "metadata": {}
  },
  {
   "cell_type": "code",
   "execution_count": null,
   "source": [
    "# Read only the first n lines of a file\n",
    "nLines = 5\n",
    "i=0\n",
    "\n",
    "# Need to re-open the file since we've already iterated through it completely\n",
    "file = open('Foxp1.gbk',mode = 'r')\n",
    "\n",
    "while i < nLines:\n",
    "    print(next(file))\n",
    "    i += 1"
   ],
   "outputs": [],
   "metadata": {}
  },
  {
   "cell_type": "markdown",
   "source": [
    "### Fetching files/data from the internet"
   ],
   "metadata": {}
  },
  {
   "cell_type": "code",
   "execution_count": null,
   "source": [
    "## lets deconstruct what's happening here.\n",
    "\n",
    "import urllib\n",
    "import gzip\n",
    "\n",
    "url = \"https://hgdownload.soe.ucsc.edu/goldenPath/sacCer3/chromosomes/chrIII.fa.gz\"\n",
    "urllib.request.urlretrieve(url, \"chrIII.fa.gz\")\n",
    "\n",
    "chrIII = gzip.open('chrIII.fa.gz',mode = 'rb') # note the additional use of 'b' here meaning we are going to 'read' a 'binary' (zipped) file.\n",
    "\n",
    "print(next(chrIII))\n",
    "\n",
    "numLines = 10\n",
    "\n",
    "head = [next(chrIII) for x in range(numLines)] # Using list comprehension to return a list of values from some operation\n",
    "\n",
    "print(head)\n",
    "    \n",
    "for line in head:\n",
    "    print(line)\n"
   ],
   "outputs": [],
   "metadata": {}
  },
  {
   "cell_type": "markdown",
   "source": [
    "### Writing output to a file\n",
    "When we write to a file, we need to indicate whether we are going to overwrite anything in an existing file, or append (`mode = a`) the content to the end of the existing file. When we are done with a file, we should always close it with `close()`"
   ],
   "metadata": {}
  },
  {
   "cell_type": "code",
   "execution_count": null,
   "source": [],
   "outputs": [],
   "metadata": {}
  },
  {
   "cell_type": "code",
   "execution_count": 31,
   "source": [
    "file = open('myOutput.txt','w')\n",
    "file.write(\"Here is my awesome file content!\\n\")\n",
    "file.write(\"It's probably the most important information I'll need for my thesis!\\n\")\n",
    "for gene in genes:\n",
    "    file.write(f'{gene}\\n')\n",
    "file.close()\n",
    "\n",
    "file = open('myOutput.txt','a') # Try changing the mode from 'a' to 'w'\n",
    "file.write(\"I forgot to add this as well\\n\")\n",
    "file.close()\n",
    "\n",
    "file = open('myOutput.txt','r')\n",
    "\n",
    "for line in file:\n",
    "    print(line)\n"
   ],
   "outputs": [
    {
     "output_type": "stream",
     "name": "stdout",
     "text": [
      "Here is my awesome file content!\n",
      "\n",
      "It's probably the most important information I'll need for my thesis!\n",
      "\n",
      "Gapdh\n",
      "\n",
      "Mef2c\n",
      "\n",
      "Pax6\n",
      "\n",
      "Cxcl1\n",
      "\n",
      "Msi1\n",
      "\n",
      "I forgot to add this as well\n",
      "\n"
     ]
    }
   ],
   "metadata": {}
  },
  {
   "cell_type": "markdown",
   "source": [
    "## Intro to Python Scripting\n",
    "Now we're going to tie all of this together into a python script that is a self-contained program. First, lets figure out what our objective(s) are.\n"
   ],
   "metadata": {}
  },
  {
   "cell_type": "markdown",
   "source": [],
   "metadata": {}
  },
  {
   "cell_type": "markdown",
   "source": [],
   "metadata": {}
  },
  {
   "cell_type": "code",
   "execution_count": null,
   "source": [],
   "outputs": [],
   "metadata": {}
  }
 ],
 "metadata": {
  "kernelspec": {
   "name": "python3",
   "display_name": "Python 3.8.5 64-bit ('base': conda)"
  },
  "language_info": {
   "codemirror_mode": {
    "name": "ipython",
    "version": 3
   },
   "file_extension": ".py",
   "mimetype": "text/x-python",
   "name": "python",
   "nbconvert_exporter": "python",
   "pygments_lexer": "ipython3",
   "version": "3.8.5"
  },
  "interpreter": {
   "hash": "f830f5482817da8c94e7b92359ddd59f62b3b721ee2e7f2ba7b076c4827b6548"
  }
 },
 "nbformat": 4,
 "nbformat_minor": 4
}