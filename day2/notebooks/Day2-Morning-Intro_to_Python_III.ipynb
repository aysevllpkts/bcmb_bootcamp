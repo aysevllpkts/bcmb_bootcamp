{
 "cells": [
  {
   "cell_type": "markdown",
   "metadata": {},
   "source": [
    "# Day 2 - Intro to Python III"
   ]
  },
  {
   "cell_type": "markdown",
   "metadata": {},
   "source": [
    "## Classes and Objects - An introduction to object-oriented programming"
   ]
  },
  {
   "cell_type": "markdown",
   "metadata": {},
   "source": [
    "\"Object oriented programming\" is a very useful and important concept in python programming. Objects are individual data structures that you can create and define to encapsulate variables and functions for any type of data that you would like to analyze or work with. Objects get their variables and functions from 'Classes' which act as templates to define and create individual objects. "
   ]
  },
  {
   "cell_type": "markdown",
   "metadata": {},
   "source": [
    "Below is an example of a class definition that can be used to create different _instances_ (objects) of a type `Ball`"
   ]
  },
  {
   "cell_type": "code",
   "execution_count": 30,
   "metadata": {},
   "outputs": [],
   "source": [
    "import math\n",
    "\n",
    "class Ball:\n",
    "    def __init__(self, \n",
    "                 radius = 4.7, \n",
    "                 color = \"red\"):\n",
    "        self.radius = radius\n",
    "        self.color = color\n",
    "    \n",
    "    def area(self):\n",
    "        return(self.radius*(4*math.pi))\n",
    "    \n",
    "    def volume(self):\n",
    "        return((4/3)*math.pi*(self.radius**3))"
   ]
  },
  {
   "cell_type": "code",
   "execution_count": 31,
   "metadata": {},
   "outputs": [
    {
     "data": {
      "text/plain": [
       "<__main__.Ball at 0x7f925051fb00>"
      ]
     },
     "execution_count": 31,
     "metadata": {},
     "output_type": "execute_result"
    }
   ],
   "source": [
    "tennis = Ball(radius=1.5,color=\"yellow\")\n",
    "\n",
    "tennis"
   ]
  },
  {
   "cell_type": "markdown",
   "metadata": {},
   "source": [
    "Variables within an object instance can be accessed using the `.` operator"
   ]
  },
  {
   "cell_type": "code",
   "execution_count": 32,
   "metadata": {},
   "outputs": [
    {
     "data": {
      "text/plain": [
       "1.5"
      ]
     },
     "execution_count": 32,
     "metadata": {},
     "output_type": "execute_result"
    }
   ],
   "source": [
    "tennis.radius"
   ]
  },
  {
   "cell_type": "code",
   "execution_count": 33,
   "metadata": {},
   "outputs": [
    {
     "data": {
      "text/plain": [
       "'yellow'"
      ]
     },
     "execution_count": 33,
     "metadata": {},
     "output_type": "execute_result"
    }
   ],
   "source": [
    "tennis.color"
   ]
  },
  {
   "cell_type": "markdown",
   "metadata": {},
   "source": [
    "And we can use the embedded functions (which are now called 'methods' if they are attached to a specific object) to perform operations on individual objects.  For example, we can use the `volume()` method to calculate the volume of the `tennis` `Ball` instance."
   ]
  },
  {
   "cell_type": "code",
   "execution_count": 35,
   "metadata": {},
   "outputs": [
    {
     "data": {
      "text/plain": [
       "<bound method Ball.volume of <__main__.Ball object at 0x7f925051fb00>>"
      ]
     },
     "execution_count": 35,
     "metadata": {},
     "output_type": "execute_result"
    }
   ],
   "source": [
    "tennis.volume()"
   ]
  },
  {
   "cell_type": "markdown",
   "metadata": {},
   "source": [
    "Note that since `volume` is a method (function) and not a variable, it still requires the trailing parentheses."
   ]
  },
  {
   "cell_type": "code",
   "execution_count": 22,
   "metadata": {},
   "outputs": [],
   "source": [
    "class Ball:\n",
    "    def __init__(self, \n",
    "                 radius = 4.7, \n",
    "                 color = \"red\"):\n",
    "        self.radius = radius\n",
    "        self.color = color\n",
    "        \n",
    "    def __repr__(self):\n",
    "        return(f\"I am a {self.color} ball with a diameter of {self.radius*2} units\")\n",
    "    \n",
    "    def diameter(self):\n",
    "        return(self.radius*2)\n",
    "    \n",
    "    def area(self):\n",
    "        return(self.radius*(4*math.pi))\n",
    "    \n",
    "    def volume(self):\n",
    "        return((4/3)*math.pi*(self.radius**3))"
   ]
  },
  {
   "cell_type": "code",
   "execution_count": null,
   "metadata": {},
   "outputs": [],
   "source": []
  },
  {
   "cell_type": "code",
   "execution_count": null,
   "metadata": {},
   "outputs": [],
   "source": [
    "tennis = Ball(radius=1.5,color=\"yellow\")\n",
    "\n",
    "tennis\n",
    "\n",
    "tennis.radius"
   ]
  }
 ],
 "metadata": {
  "kernelspec": {
   "display_name": "Python 3",
   "language": "python",
   "name": "python3"
  },
  "language_info": {
   "codemirror_mode": {
    "name": "ipython",
    "version": 3
   },
   "file_extension": ".py",
   "mimetype": "text/x-python",
   "name": "python",
   "nbconvert_exporter": "python",
   "pygments_lexer": "ipython3",
   "version": "3.6.11"
  }
 },
 "nbformat": 4,
 "nbformat_minor": 4
}
