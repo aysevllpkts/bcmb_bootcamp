{
 "cells": [
  {
   "cell_type": "markdown",
   "source": [
    "# Day 2 - Python Lunch Exercises"
   ],
   "metadata": {}
  },
  {
   "cell_type": "markdown",
   "source": [
    "Assign integer values to the variables x and y. Write an if/else/elif control statement that prints out which variable is greater (or if they are equal), along with both their values. For example: \n",
    "\n",
    "'The value of x is 45. The value of y is 3. x is greater than y\""
   ],
   "metadata": {}
  },
  {
   "cell_type": "code",
   "execution_count": 2,
   "source": [],
   "outputs": [],
   "metadata": {}
  },
  {
   "cell_type": "markdown",
   "source": [
    "Create a dictionary that holds the following info about you:\n",
    "- First Name\n",
    "- Graduate school\n",
    "- Graduate program\n",
    "- Favorite model organism\n",
    "\n",
    "Use the `keys` attribute to print out your dictionary keys.\n"
   ],
   "metadata": {}
  },
  {
   "cell_type": "code",
   "execution_count": null,
   "source": [],
   "outputs": [],
   "metadata": {}
  },
  {
   "cell_type": "markdown",
   "source": [
    "Create a new string holding your model organsism with the string \"is my favorite organism\" appended. Then update your dictionary."
   ],
   "metadata": {}
  },
  {
   "cell_type": "code",
   "execution_count": null,
   "source": [],
   "outputs": [],
   "metadata": {}
  },
  {
   "cell_type": "markdown",
   "source": [
    "The following lists are the majors offered by two different universities. Print the following:\n",
    "- Majors offered by both schools (intersection)\n",
    "- Majors offered by either schools (union)\n",
    "- Majors offered only by school A (difference)\n",
    "- Majors offered only by school B (difference)\n",
    "\n",
    "**Hint**: lists are iterable, so can be used in for loops! Also remember the `in` operator.\n"
   ],
   "metadata": {}
  },
  {
   "cell_type": "code",
   "execution_count": null,
   "source": [
    "A = [\"Biochemistry\",\"Molecular Biology\",\"Genetics\", \"Biostatistics\",\"Histopathology\"]\n",
    "B = [\"Mathematics\",\"Physics\",\"Biostatistics\",\"Biochemistry\",\"Ethics\"]\n",
    "\n",
    "## your code here"
   ],
   "outputs": [],
   "metadata": {}
  },
  {
   "cell_type": "markdown",
   "source": [
    "The first hundred amino acids of Green Fluorescent Protein (https://www.ncbi.nlm.nih.gov/protein/QAA95706.1) are MSKGEELFTGVVPILVELDGDVNGHKFSVSGEGEGDATYGKLTLKFICTTGKLPVPWPTLVTTFTYGVQCFSRYPDHMKQHDFFKSAMPEGYVQERTIFF. \n",
    "- How many Leucines (L) are there?\n",
    "- How many times does any amino acid appear twice in a row? You don't need to keep track of which amino acids, just return the total number.\n",
    "\n",
    "Hint: For the second part, we've initialized `repeat_count` with a value of zero, and `previous_character` to an empty string. Write a loop that compares each letter the the previous one. In each iteration, update the `previous_character` (every time) and the `repeat_count` (only if there is a hit!)"
   ],
   "metadata": {}
  },
  {
   "cell_type": "code",
   "execution_count": 6,
   "source": [
    "gfp_100 = 'MSKGEELFTGVVPILVELDGDVNGHKFSVSGEGEGDATYGKLTLKFICTTGKLPVPWPTLVTTFTYGVQCFSRYPDHMKQHDFFKSAMPEGYVQERTIFF'\n",
    "\n",
    "repeat_count = 0\n",
    "previous_chararacter = ''\n",
    "\n",
    "\n",
    "\n"
   ],
   "outputs": [],
   "metadata": {}
  }
 ],
 "metadata": {
  "interpreter": {
   "hash": "f830f5482817da8c94e7b92359ddd59f62b3b721ee2e7f2ba7b076c4827b6548"
  },
  "kernelspec": {
   "name": "python3",
   "display_name": "Python 3.8.5 64-bit ('base': conda)"
  },
  "language_info": {
   "codemirror_mode": {
    "name": "ipython",
    "version": 3
   },
   "file_extension": ".py",
   "mimetype": "text/x-python",
   "name": "python",
   "nbconvert_exporter": "python",
   "pygments_lexer": "ipython3",
   "version": "3.8.5"
  }
 },
 "nbformat": 4,
 "nbformat_minor": 4
}