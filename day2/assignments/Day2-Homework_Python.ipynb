{
 "cells": [
  {
   "cell_type": "markdown",
   "id": "28c66a9e-dc1f-47ea-98a7-61e973829ed9",
   "metadata": {},
   "source": [
    "# Day2 Homework"
   ]
  },
  {
   "cell_type": "markdown",
   "id": "3e233a6e-383b-49db-a9ed-5c895c76a265",
   "metadata": {},
   "source": [
    "1. You are given a sample of a DNA plasmid with a known concentration of 1.85ug/uL and a length of 1,354 bases, and are asked to calculate the molarity of the sample. \n",
    "\n",
    "  * Create a function to calculate the molarity of a double-stranded DNA molecule given this information. (Google is your friend here to find the formula)."
   ]
  },
  {
   "cell_type": "code",
   "execution_count": null,
   "id": "6f7e597f-3854-4921-b3c2-ba91de478af6",
   "metadata": {},
   "outputs": [],
   "source": []
  },
  {
   "cell_type": "markdown",
   "id": "6b7c9dc7-7c7b-49f5-9610-dbc522cb9a46",
   "metadata": {},
   "source": [
    "  * You receive another plasmid with a length of 2,500 bases. You make a series of 10 dilutions ranging from 0-10ug/ul. Construct a loop to calculate the molarity of each dilution. (hint: help(range))"
   ]
  },
  {
   "cell_type": "markdown",
   "id": "17fe298f-6dc8-4339-82ed-f99517f33ed7",
   "metadata": {},
   "source": [
    "2. Using a list comprehension approach, translate the following formulae and solve for the indicated range of values\n",
    "\n",
    "* $x^2$ for $x:\\{0 ... 9\\}$"
   ]
  },
  {
   "cell_type": "code",
   "execution_count": null,
   "id": "22f29bb3-bab8-44cc-9dda-fc03526031c3",
   "metadata": {},
   "outputs": [],
   "source": []
  },
  {
   "cell_type": "markdown",
   "id": "37ee1426-fb60-4f89-9cca-0712fb21d0b8",
   "metadata": {},
   "source": [
    "* $2^x$ for all even numbers between 0 and 20"
   ]
  },
  {
   "cell_type": "code",
   "execution_count": null,
   "id": "63bd2bd3-8ead-4a6c-9abc-d0bfcefd2fd0",
   "metadata": {},
   "outputs": [],
   "source": []
  },
  {
   "cell_type": "markdown",
   "id": "e66d3275-47df-409d-b6bc-29f5191111a9",
   "metadata": {},
   "source": [
    "* $3x^4-2x^3+17x$ for $x:\\{1 ... 200\\}$"
   ]
  },
  {
   "cell_type": "code",
   "execution_count": null,
   "id": "28752f65-7b32-4235-8c0d-86950feb6280",
   "metadata": {},
   "outputs": [],
   "source": []
  },
  {
   "cell_type": "markdown",
   "id": "c0e5c32e-7cdb-4f57-a58c-c1a39008c428",
   "metadata": {},
   "source": [
    "\\* calculate the solution to the following equation: $p^2 + 2pq + q^2$ where $0<p<1$ and $q=1-p$ over the range of values below."
   ]
  },
  {
   "cell_type": "code",
   "execution_count": null,
   "id": "b2c6fa20-2851-4d75-81cd-79afca5f39f3",
   "metadata": {},
   "outputs": [],
   "source": [
    "#Here are the range of p's you will need (note 0<p<1 and the Set P variabile is capitalized.)\n",
    "P = [0.0,0.2,0.33,0.5,0.66666667,0.99]\n",
    "\n",
    "#First define a function q() that takes p as an argument and returns q\n",
    "def q(p):\n",
    "    ??\n",
    "\n",
    "#Using list comprehension and your newly created q() function translate the above formula and calculate the solution over the values in P\n",
    "\n",
    "print(x)"
   ]
  },
  {
   "cell_type": "markdown",
   "id": "d0aeb92b-4ba6-4b1a-8483-4fec78f12422",
   "metadata": {},
   "source": [
    "_Bonus points: What is the name of this formula and what does it describe?_"
   ]
  }
 ],
 "metadata": {
  "kernelspec": {
   "display_name": "Python 3",
   "language": "python",
   "name": "python3"
  },
  "language_info": {
   "codemirror_mode": {
    "name": "ipython",
    "version": 3
   },
   "file_extension": ".py",
   "mimetype": "text/x-python",
   "name": "python",
   "nbconvert_exporter": "python",
   "pygments_lexer": "ipython3",
   "version": "3.7.6"
  }
 },
 "nbformat": 4,
 "nbformat_minor": 5
}
