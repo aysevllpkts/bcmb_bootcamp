{
 "cells": [
  {
   "cell_type": "markdown",
   "metadata": {},
   "source": [
    "# Day 2 Homework"
   ]
  },
  {
   "cell_type": "markdown",
   "metadata": {},
   "source": [
    "1. Here are 25 numbers drawn from a normal distribution. Calculate the mean, standard deviation, and variance of the set. Do the mean calculation manually, and then use the built-in functions provided in the **statistics** module for the others.\n",
    "\n",
    "**Hint**: The functions *sum*, *len*, *statistics.stdev*, and *statistics.variance* will be useful. Use the *help()* command to learn more about them, if needed."
   ]
  },
  {
   "cell_type": "code",
   "execution_count": 1,
   "metadata": {},
   "outputs": [],
   "source": [
    "import statistics\n",
    "\n",
    "#help(len)\n",
    " \n",
    "my_samples = [8.343003931051403, 10.983139316643154, 10.028263738536845, 10.030605626392367, 10.479262011457655, 11.003444821427529,\n",
    "  11.15941163985765, 8.572931560317459, 10.734225011659504, 9.42236611877579, 9.428287552964232, 12.751301969731728, 9.175698518027408,\n",
    "   13.277810638831117, 10.36739357419826, 9.586251108314395, 10.427168797319448, 9.598709847965262, 8.687074988292876, 9.964044897601617,\n",
    "    10.452622225611169, 10.180824722303885, 9.671712590995602, 11.232140649632495, 12.024224902990818]\n",
    " \n",
    " ## your code here\n",
    "\n"
   ]
  },
  {
   "cell_type": "markdown",
   "metadata": {},
   "source": [
    "From *my_samples* above, print out the following:\n",
    "- The first five elements (remember that python begins with index 0)\n",
    "- The last five elements\n",
    "- The 13th and 14th elements"
   ]
  },
  {
   "cell_type": "code",
   "execution_count": null,
   "metadata": {},
   "outputs": [],
   "source": []
  },
  {
   "cell_type": "markdown",
   "metadata": {},
   "source": [
    "2. You are given a sample of a DNA plasmid with a known concentration of 1.85ug/uL and a length of 1,354 bases, and are asked to calculate the molarity of the sample. \n",
    "\n",
    "  * Create a function to calculate the molarity of a double-stranded DNA molecule given this information. (Google is your friend here to find the formula and the molecular weight for an 'average' oligonucleotide base pair)."
   ]
  },
  {
   "cell_type": "code",
   "execution_count": null,
   "metadata": {},
   "outputs": [],
   "source": []
  },
  {
   "cell_type": "markdown",
   "metadata": {},
   "source": [
    "  * You receive another plasmid with a length of 2,500 bases. You make a series of 10 dilutions ranging from 0-10ug/ul. Construct a loop to calculate the molarity of each dilution. (hint: help(range))"
   ]
  },
  {
   "cell_type": "markdown",
   "metadata": {},
   "source": [
    "3. Using either a for loop or a list comprehension approach, translate the following formulae and solve for the indicated range of values\n",
    "\n",
    "* $x^2$ for $x:\\{0 ... 9\\}$"
   ]
  },
  {
   "cell_type": "code",
   "execution_count": null,
   "metadata": {},
   "outputs": [],
   "source": []
  },
  {
   "cell_type": "markdown",
   "metadata": {},
   "source": [
    "* $2^x$ for all even numbers between 0 and 20"
   ]
  },
  {
   "cell_type": "code",
   "execution_count": null,
   "metadata": {},
   "outputs": [],
   "source": []
  },
  {
   "cell_type": "markdown",
   "metadata": {},
   "source": [
    "* $3x^4-2x^3+17x$ for $x:\\{1 ... 200\\}$"
   ]
  },
  {
   "cell_type": "code",
   "execution_count": null,
   "metadata": {},
   "outputs": [],
   "source": []
  },
  {
   "cell_type": "markdown",
   "metadata": {},
   "source": [
    "4. Solve the following equation for $x$:\n",
    "\n",
    "$x = p^2 + 2pq + q^2$ where $0<p<1$ and $q=1-p$ over the range of P values provided below. "
   ]
  },
  {
   "cell_type": "code",
   "execution_count": null,
   "metadata": {},
   "outputs": [],
   "source": [
    "#Here are the range of p's you will need (note 0<p<1 and the Set P variable is capitalized.)\n",
    "P = [0.0,0.2,0.33,0.5,0.66666667,0.99]\n",
    "\n",
    "#First define a function q() that takes p as an argument and returns q\n",
    "def q(p):\n",
    "    ??\n",
    "\n",
    "#Using list comprehension and your newly created q() function translate the above formula and calculate the solution over the values in P\n",
    "\n"
   ]
  },
  {
   "cell_type": "markdown",
   "metadata": {},
   "source": [
    "_Bonus points: What is the name of this formula and what does it describe?_"
   ]
  },
  {
   "cell_type": "markdown",
   "metadata": {},
   "source": []
  }
 ],
 "metadata": {
  "interpreter": {
   "hash": "f830f5482817da8c94e7b92359ddd59f62b3b721ee2e7f2ba7b076c4827b6548"
  },
  "kernelspec": {
   "display_name": "Python 3",
   "language": "python",
   "name": "python3"
  },
  "language_info": {
   "codemirror_mode": {
    "name": "ipython",
    "version": 3
   },
   "file_extension": ".py",
   "mimetype": "text/x-python",
   "name": "python",
   "nbconvert_exporter": "python",
   "pygments_lexer": "ipython3",
   "version": "3.6.11"
  }
 },
 "nbformat": 4,
 "nbformat_minor": 5
}
