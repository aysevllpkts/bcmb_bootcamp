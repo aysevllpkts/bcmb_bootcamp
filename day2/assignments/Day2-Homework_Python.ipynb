{
 "cells": [
  {
   "cell_type": "markdown",
   "metadata": {},
   "source": [
    "# Day2 Homework"
   ]
  },
  {
   "cell_type": "markdown",
   "metadata": {},
   "source": [
    "1. You are given a sample of a DNA plasmid with a known concentration of 1.85ug/uL and a length of 1,354 bases, and are asked to calculate the molarity of the sample. \n",
    "\n",
    "  * Create a function to calculate the molarity of a double-stranded DNA molecule given this information. (Google is your friend here to find the formula)."
   ]
  },
  {
   "cell_type": "code",
   "execution_count": null,
   "metadata": {},
   "outputs": [],
   "source": []
  },
  {
   "cell_type": "markdown",
   "metadata": {},
   "source": [
    "  * You receive another plasmid with a length of 2,500 bases. You make a series of 10 dilutions ranging from 0-10ug/ul. Construct a loop to calculate the molarity of each dilution. (hint: help(range))"
   ]
  },
  {
   "cell_type": "markdown",
   "metadata": {},
   "source": [
    "2. Using a list comprehension approach, translate the following formulae and solve for the indicated range of values\n",
    "\n",
    "* $x^2$ for $x:\\{0 ... 9\\}$"
   ]
  },
  {
   "cell_type": "code",
   "execution_count": null,
   "metadata": {},
   "outputs": [],
   "source": [
    "[x**2 for x in range(0,10)]"
   ]
  },
  {
   "cell_type": "markdown",
   "metadata": {},
   "source": [
    "* $2^x$ for all even numbers between 0 and 20"
   ]
  },
  {
   "cell_type": "code",
   "execution_count": null,
   "metadata": {},
   "outputs": [],
   "source": []
  },
  {
   "cell_type": "markdown",
   "metadata": {},
   "source": [
    "* $3x^4-2x^3+17x$ for $x:\\{1 ... 200\\}$"
   ]
  },
  {
   "cell_type": "code",
   "execution_count": null,
   "metadata": {},
   "outputs": [],
   "source": [
    "[3*(x**4)-2*(x**3)+17*x for x in range(1,201)]"
   ]
  },
  {
   "cell_type": "markdown",
   "metadata": {},
   "source": [
    "\\* Solve the following equation for $x$:\n",
    "\n",
    "$x = p^2 + 2pq + q^2$ where $0<p<1$ and $q=1-p$ over the range of P values provided below. "
   ]
  },
  {
   "cell_type": "code",
   "execution_count": null,
   "metadata": {},
   "outputs": [],
   "source": [
    "#Here are the range of p's you will need (note 0<p<1 and the Set P variabile is capitalized.)\n",
    "P = [0.0,0.2,0.33,0.5,0.66666667,0.99]\n",
    "\n",
    "#First define a function q() that takes p as an argument and returns q\n",
    "def q(p):\n",
    "    ??\n",
    "\n",
    "#Using list comprehension and your newly created q() function translate the above formula and calculate the solution over the values in P\n",
    "\n"
   ]
  },
  {
   "cell_type": "markdown",
   "metadata": {},
   "source": [
    "_Bonus points: What is the name of this formula and what does it describe?_"
   ]
  }
 ],
 "metadata": {
  "kernelspec": {
   "display_name": "Python 3",
   "language": "python",
   "name": "python3"
  },
  "language_info": {
   "codemirror_mode": {
    "name": "ipython",
    "version": 3
   },
   "file_extension": ".py",
   "mimetype": "text/x-python",
   "name": "python",
   "nbconvert_exporter": "python",
   "pygments_lexer": "ipython3",
   "version": "3.6.11"
  }
 },
 "nbformat": 4,
 "nbformat_minor": 5
}
