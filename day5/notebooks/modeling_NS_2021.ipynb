{
 "cells": [
  {
   "cell_type": "markdown",
   "metadata": {},
   "source": [
    "# Differential Equations in BCMB"
   ]
  },
  {
   "cell_type": "markdown",
   "metadata": {},
   "source": [
    "# Differential equations and rates"
   ]
  },
  {
   "cell_type": "markdown",
   "metadata": {},
   "source": [
    "Biochemistry has _many_ differential equations.  Let's consider a zeroth-order reaction:\n",
    "\n",
    "$\\frac{d[C]}{dt} = -k$\n",
    "\n",
    "Gives us the equation - where the rate at which a drug (or other substance) decays $\\frac{d[C]}{dt}$ is dependent only on the constant $k$.  An example of a zeroth order reaction is the oxidation of ethanol in the human liver to acetaldehyde, catalyzed by alcohol dehydrogenase.  As long as there is a high enough amount of alcohol available, the reaction is limited only by how fast the enzyme can work and the amount of enzyme available. \n",
    "\n",
    "If we integrate this, we can see that the concentration should behave like:\n",
    "\n",
    "$C(t) = C_0 - kt$\n",
    "\n",
    "With $C_0$ the initial amount of alcohol and $t$ as time. The resulting curve looks like this:"
   ]
  },
  {
   "cell_type": "code",
   "execution_count": 14,
   "metadata": {},
   "outputs": [],
   "source": [
    "import numpy as np\n",
    "import matplotlib.pyplot as plt"
   ]
  },
  {
   "cell_type": "code",
   "execution_count": 15,
   "metadata": {},
   "outputs": [],
   "source": [
    "t=np.linspace(0,100, 101) #Here's my time values from 0 to 100\n",
    "k=5 #rate constant\n",
    "C_0=1000 #inital amount of alcohol\n",
    "C=C_0 - k*t"
   ]
  },
  {
   "cell_type": "code",
   "execution_count": 16,
   "metadata": {},
   "outputs": [
    {
     "data": {
      "text/plain": [
       "[<matplotlib.lines.Line2D at 0x7f14d0541670>]"
      ]
     },
     "execution_count": 16,
     "metadata": {},
     "output_type": "execute_result"
    },
    {
     "data": {
      "image/png": "[encoded data removed]",
      "text/plain": [
       "<Figure size 432x288 with 1 Axes>"
      ]
     },
     "metadata": {
      "needs_background": "light"
     },
     "output_type": "display_data"
    }
   ],
   "source": [
    "plt.plot(t, C)"
   ]
  },
  {
   "cell_type": "markdown",
   "metadata": {},
   "source": [
    "Ok - so let's now consider a \"first-order\" rate equation, like either _exponential decay_ or _exponential growth_.\n",
    "\n",
    "These rates generally follow:\n",
    "\n",
    "$\\frac{d[C]}{dt} = -k[C]$\n",
    "\n",
    "Gives us the equation - where the rate at which a drug (or other substance) decays $\\frac{d[C]}{dt}$ is dependent on the amount of the substance $[C]$ times a constant $k$. But . . . how do we solve this?  The rate of _change_ of the concentration is dependent _itself_ on the concentration.  Of course, if you've taken differential equations, you might know that the answer is:\n",
    "\n",
    "$C(t)=C_0e^{-kt}$\n",
    "\n",
    "But let's say we _don't_ know that.  What's another way to solve this?"
   ]
  },
  {
   "cell_type": "markdown",
   "metadata": {},
   "source": [
    "We can use Euler's method (<https://en.wikipedia.org/wiki/Euler_method>).  This is a numerical method where you basically take _tiny_ little baby steps, estimating the rate at each time based on the concentration at that time, recalculating at each point.  Let me illustrate - let's start with an initial concentration of $C_0=1000$ and $k=0.05$."
   ]
  },
  {
   "cell_type": "code",
   "execution_count": 17,
   "metadata": {},
   "outputs": [
    {
     "data": {
      "text/plain": [
       "[<matplotlib.lines.Line2D at 0x7f14d0492ac0>]"
      ]
     },
     "execution_count": 17,
     "metadata": {},
     "output_type": "execute_result"
    },
    {
     "data": {
      "image/png": "[encoded data removed]",
      "text/plain": [
       "<Figure size 432x288 with 1 Axes>"
      ]
     },
     "metadata": {
      "needs_background": "light"
     },
     "output_type": "display_data"
    }
   ],
   "source": [
    "C=np.array([1000])\n",
    "t=np.array([0])\n",
    "k=0.05\n",
    "plt.plot(t, C, '-o')"
   ]
  },
  {
   "cell_type": "markdown",
   "metadata": {},
   "source": [
    "Now let's calculate $C$ at $t = 1$.  First we calculate the rate at $t=0$:"
   ]
  },
  {
   "cell_type": "code",
   "execution_count": 18,
   "metadata": {},
   "outputs": [
    {
     "data": {
      "text/plain": [
       "array([-50.])"
      ]
     },
     "execution_count": 18,
     "metadata": {},
     "output_type": "execute_result"
    }
   ],
   "source": [
    "rate=np.array([-k*C[0]])\n",
    "rate"
   ]
  },
  {
   "cell_type": "markdown",
   "metadata": {},
   "source": [
    "So the rate is $-50$ - let's now apply that rate from $t=0$ to calculate the concentration at $t=1$"
   ]
  },
  {
   "cell_type": "code",
   "execution_count": 19,
   "metadata": {},
   "outputs": [
    {
     "data": {
      "text/plain": [
       "[<matplotlib.lines.Line2D at 0x7f14d046a490>]"
      ]
     },
     "execution_count": 19,
     "metadata": {},
     "output_type": "execute_result"
    },
    {
     "data": {
      "image/png": "[encoded data removed]",
      "text/plain": [
       "<Figure size 432x288 with 1 Axes>"
      ]
     },
     "metadata": {
      "needs_background": "light"
     },
     "output_type": "display_data"
    }
   ],
   "source": [
    "dt = 1 # The size of our time step is 1\n",
    "t=np.append(t, t[0]+dt)\n",
    "C=np.append(C, C[0]+dt*rate[0])\n",
    "plt.plot(t, C, '-o')"
   ]
  },
  {
   "cell_type": "markdown",
   "metadata": {},
   "source": [
    "So now at $t=1$ we have $C=50$. Let's repeat this now for $t=1$"
   ]
  },
  {
   "cell_type": "code",
   "execution_count": 21,
   "metadata": {},
   "outputs": [
    {
     "data": {
      "text/plain": [
       "array([-50. , -47.5])"
      ]
     },
     "execution_count": 21,
     "metadata": {},
     "output_type": "execute_result"
    }
   ],
   "source": [
    "rate=np.append(rate, -k*C[1])\n",
    "rate"
   ]
  },
  {
   "cell_type": "markdown",
   "metadata": {},
   "source": [
    "Ok - the rate is now $-47.5$.  Let's apply this."
   ]
  },
  {
   "cell_type": "code",
   "execution_count": 22,
   "metadata": {},
   "outputs": [
    {
     "data": {
      "text/plain": [
       "[<matplotlib.lines.Line2D at 0x7f14d0441400>]"
      ]
     },
     "execution_count": 22,
     "metadata": {},
     "output_type": "execute_result"
    },
    {
     "data": {
      "image/png": "[encoded data removed]",
      "text/plain": [
       "<Figure size 432x288 with 1 Axes>"
      ]
     },
     "metadata": {
      "needs_background": "light"
     },
     "output_type": "display_data"
    }
   ],
   "source": [
    "t=np.append(t, t[1]+dt)\n",
    "C=np.append(C, C[1]+dt*rate[1])\n",
    "plt.plot(t, C, '-o')"
   ]
  },
  {
   "cell_type": "markdown",
   "metadata": {},
   "source": [
    "I see a pattern forming.  I bet I can do this with a for loop:"
   ]
  },
  {
   "cell_type": "code",
   "execution_count": 23,
   "metadata": {},
   "outputs": [],
   "source": [
    "#Restart my values\n",
    "C=np.array([1000])\n",
    "t=np.array([0])\n",
    "k=0.05\n",
    "rate=np.array([-k*C[0]])\n",
    "dt=1\n",
    "num_points=int(100/dt)"
   ]
  },
  {
   "cell_type": "code",
   "execution_count": 24,
   "metadata": {},
   "outputs": [],
   "source": [
    "for i in range(num_points):\n",
    "    t=np.append(t, t[i]+dt)\n",
    "    C=np.append(C, C[i]+dt*rate[i-1])\n",
    "    rate=np.append(rate, -k*C[i])"
   ]
  },
  {
   "cell_type": "code",
   "execution_count": 25,
   "metadata": {},
   "outputs": [
    {
     "data": {
      "text/plain": [
       "[<matplotlib.lines.Line2D at 0x7f14d0392c10>]"
      ]
     },
     "execution_count": 25,
     "metadata": {},
     "output_type": "execute_result"
    },
    {
     "data": {
      "image/png": "[encoded data removed]",
      "text/plain": [
       "<Figure size 432x288 with 1 Axes>"
      ]
     },
     "metadata": {
      "needs_background": "light"
     },
     "output_type": "display_data"
    }
   ],
   "source": [
    "plt.plot(t, C, '-o')"
   ]
  },
  {
   "cell_type": "markdown",
   "metadata": {},
   "source": [
    "And let's compare this _numerical_ solution to the _analytical_ solution"
   ]
  },
  {
   "cell_type": "code",
   "execution_count": 26,
   "metadata": {},
   "outputs": [
    {
     "data": {
      "text/plain": [
       "array([-0.  , -0.05, -0.1 , -0.15, -0.2 , -0.25, -0.3 , -0.35, -0.4 ,\n",
       "       -0.45, -0.5 , -0.55, -0.6 , -0.65, -0.7 , -0.75, -0.8 , -0.85,\n",
       "       -0.9 , -0.95, -1.  , -1.05, -1.1 , -1.15, -1.2 , -1.25, -1.3 ,\n",
       "       -1.35, -1.4 , -1.45, -1.5 , -1.55, -1.6 , -1.65, -1.7 , -1.75,\n",
       "       -1.8 , -1.85, -1.9 , -1.95, -2.  , -2.05, -2.1 , -2.15, -2.2 ,\n",
       "       -2.25, -2.3 , -2.35, -2.4 , -2.45, -2.5 , -2.55, -2.6 , -2.65,\n",
       "       -2.7 , -2.75, -2.8 , -2.85, -2.9 , -2.95, -3.  , -3.05, -3.1 ,\n",
       "       -3.15, -3.2 , -3.25, -3.3 , -3.35, -3.4 , -3.45, -3.5 , -3.55,\n",
       "       -3.6 , -3.65, -3.7 , -3.75, -3.8 , -3.85, -3.9 , -3.95, -4.  ,\n",
       "       -4.05, -4.1 , -4.15, -4.2 , -4.25, -4.3 , -4.35, -4.4 , -4.45,\n",
       "       -4.5 , -4.55, -4.6 , -4.65, -4.7 , -4.75, -4.8 , -4.85, -4.9 ,\n",
       "       -4.95, -5.  ])"
      ]
     },
     "execution_count": 26,
     "metadata": {},
     "output_type": "execute_result"
    }
   ],
   "source": [
    "(-k*t)"
   ]
  },
  {
   "cell_type": "code",
   "execution_count": 27,
   "metadata": {},
   "outputs": [
    {
     "data": {
      "text/plain": [
       "[<matplotlib.lines.Line2D at 0x7f14d0372430>]"
      ]
     },
     "execution_count": 27,
     "metadata": {},
     "output_type": "execute_result"
    },
    {
     "data": {
      "image/png": "[encoded data removed]",
      "text/plain": [
       "<Figure size 432x288 with 1 Axes>"
      ]
     },
     "metadata": {
      "needs_background": "light"
     },
     "output_type": "display_data"
    }
   ],
   "source": [
    "C_analytical=C[0]*np.exp(-k*t)\n",
    "\n",
    "plt.plot(t, C, 'o')\n",
    "plt.plot(t, C_analytical, 'k-')"
   ]
  },
  {
   "cell_type": "markdown",
   "metadata": {},
   "source": [
    "It's . . . . not perfect, but it's pretty close! The reason the curve is inaccurate is because the rate _changes_ through that first $dt$, that first time interval.  If we took smaller intervals, it would get more accurate, but then it would also require more computation.  Let's see what happens with $dt=0.1$ and $dt=10$"
   ]
  },
  {
   "cell_type": "markdown",
   "metadata": {},
   "source": [
    "For $dt=0.1$"
   ]
  },
  {
   "cell_type": "code",
   "execution_count": 28,
   "metadata": {},
   "outputs": [],
   "source": [
    "#Restart my values\n",
    "C_small=np.array([1000])\n",
    "t_small=np.array([0])\n",
    "k=0.05\n",
    "rate_small=np.array([-k*C_small[0]])\n",
    "dt_small=0.1\n",
    "num_points=int(100/dt_small)"
   ]
  },
  {
   "cell_type": "code",
   "execution_count": 29,
   "metadata": {},
   "outputs": [],
   "source": [
    "for i in range(num_points):\n",
    "    t_small=np.append(t_small, t_small[i]+dt_small)\n",
    "    C_small=np.append(C_small, C_small[i]+dt_small*rate_small[i-1])\n",
    "    rate_small=np.append(rate_small, -k*C_small[i])"
   ]
  },
  {
   "cell_type": "markdown",
   "metadata": {},
   "source": [
    "For $dt = 10$"
   ]
  },
  {
   "cell_type": "code",
   "execution_count": 30,
   "metadata": {},
   "outputs": [],
   "source": [
    "#Restart my values\n",
    "C_big=np.array([1000])\n",
    "t_big=np.array([0])\n",
    "k=0.05\n",
    "rate_big=np.array([-k*C_big[0]])\n",
    "dt_big=10\n",
    "num_points=int(100/dt_big)"
   ]
  },
  {
   "cell_type": "code",
   "execution_count": 31,
   "metadata": {},
   "outputs": [],
   "source": [
    "for i in range(num_points):\n",
    "    t_big=np.append(t_big, t_big[i]+dt_big)\n",
    "    C_big=np.append(C_big, C_big[i]+dt_big*rate_big[i-1])\n",
    "    rate_big=np.append(rate_big, -k*C_big[i])"
   ]
  },
  {
   "cell_type": "markdown",
   "metadata": {},
   "source": [
    "Now let's plot all 4 lines"
   ]
  },
  {
   "cell_type": "code",
   "execution_count": 34,
   "metadata": {},
   "outputs": [
    {
     "data": {
      "text/plain": [
       "[<matplotlib.lines.Line2D at 0x7f14d027fa60>]"
      ]
     },
     "execution_count": 34,
     "metadata": {},
     "output_type": "execute_result"
    },
    {
     "data": {
      "image/png": "[encoded data removed]",
      "text/plain": [
       "<Figure size 720x720 with 1 Axes>"
      ]
     },
     "metadata": {
      "needs_background": "light"
     },
     "output_type": "display_data"
    }
   ],
   "source": [
    "plt.figure(figsize=(10,10))\n",
    "plt.plot(t_big, C_big, 'r-')\n",
    "plt.plot(t, C, 'b-')\n",
    "plt.plot(t_small, C_small, 'g-')\n",
    "plt.plot(t, C_analytical, 'k-')\n"
   ]
  },
  {
   "cell_type": "markdown",
   "metadata": {},
   "source": [
    "Ok - so if we take _too big_ a time step - it becomes illogical - going to less than zero concentration.  If we take a smaller time step, it has a better fit to the _true_ analytical solution.  So you always want to take the smallest time step that is logical."
   ]
  },
  {
   "cell_type": "markdown",
   "metadata": {},
   "source": [
    "All this said, it turns out . . . python can help you with this.  You don't have to make these for loops and solve it yourself each time!  Somewhat unsurprisingly, there are tools for it.   \n",
    "We are going to first use `scipy`'s `integrate` package - specifically the `solve_ivp` command. Some documentation is here (<https://docs.scipy.org/doc/scipy/reference/tutorial/integrate.html#ordinary-differential-equations-odeint>) and here (<https://docs.scipy.org/doc/scipy/reference/generated/scipy.integrate.solve_ivp.html#scipy.integrate.solve_ivp>)"
   ]
  },
  {
   "cell_type": "code",
   "execution_count": 35,
   "metadata": {},
   "outputs": [],
   "source": [
    "from scipy.integrate import solve_ivp"
   ]
  },
  {
   "cell_type": "markdown",
   "metadata": {},
   "source": [
    "Let's set up for our same equation as before:\n",
    "\n",
    "$\\frac{d[C]}{dt} = -k[C]$\n",
    "\n",
    "We have to tell solve_ivp about this equation.  We'll do this by defining the function like so:"
   ]
  },
  {
   "cell_type": "code",
   "execution_count": 36,
   "metadata": {},
   "outputs": [],
   "source": [
    "def decay(t, C):\n",
    "    k = 0.05\n",
    "    rate = -k * C\n",
    "    return rate"
   ]
  },
  {
   "cell_type": "code",
   "execution_count": 37,
   "metadata": {},
   "outputs": [],
   "source": [
    "def decay(t, C):\n",
    "    k = 0.05\n",
    "    rate = -k * C\n",
    "    return rate"
   ]
  },
  {
   "cell_type": "markdown",
   "metadata": {},
   "source": [
    "Where `decay` is just the name of the function (like the name of any variable) and `(t, C)` tells you what information the function is getting passed, in this case **t**ime and **C**oncentration.\n",
    "\n",
    "Now let's run the ode solver, using the same time range for our analytical solution above:"
   ]
  },
  {
   "cell_type": "code",
   "execution_count": 38,
   "metadata": {},
   "outputs": [
    {
     "data": {
      "text/plain": [
       "1000"
      ]
     },
     "execution_count": 38,
     "metadata": {},
     "output_type": "execute_result"
    }
   ],
   "source": [
    "C_0"
   ]
  },
  {
   "cell_type": "code",
   "execution_count": 39,
   "metadata": {},
   "outputs": [
    {
     "data": {
      "text/plain": [
       "  message: 'The solver successfully reached the end of the integration interval.'\n",
       "     nfev: 50\n",
       "     njev: 0\n",
       "      nlu: 0\n",
       "      sol: None\n",
       "   status: 0\n",
       "  success: True\n",
       "        t: array([  0.        ,   0.18205646,   2.00262102,  20.2082667 ,\n",
       "        37.74669563,  55.32647256,  72.90369238,  90.48110377,\n",
       "       100.        ])\n",
       " t_events: None\n",
       "        y: array([[1000.        ,  990.93848243,  904.71884595,  364.2948101 ,\n",
       "         151.6411218 ,   62.99218281,   26.17047676,   10.87257639,\n",
       "           6.75515383]])\n",
       " y_events: None"
      ]
     },
     "execution_count": 39,
     "metadata": {},
     "output_type": "execute_result"
    }
   ],
   "source": [
    "C_0=[1000] #initial Condition\n",
    "tspan = [0, 100] #Time span\n",
    "C_solver = solve_ivp(decay, tspan, C_0)\n",
    "C_solver"
   ]
  },
  {
   "cell_type": "markdown",
   "metadata": {},
   "source": [
    "So what does this output?  It looks like it tells us the times it actually used - notice that the times it used _do not_ have regular spacing - the `solve_ivp` solver uses a more sophisticated version of Euler's method (Runge-kutta 4-5) and an _adaptive_ step size.  Without getting into the math, it chooses the step size to minimize the error _and_ the number of steps it needs to take.\n",
    "\n",
    "We _can_ force it to output values at certain points if we want like so:"
   ]
  },
  {
   "cell_type": "code",
   "execution_count": 40,
   "metadata": {
    "tags": []
   },
   "outputs": [
    {
     "data": {
      "text/plain": [
       "  message: 'The solver successfully reached the end of the integration interval.'\n",
       "     nfev: 50\n",
       "     njev: 0\n",
       "      nlu: 0\n",
       "      sol: None\n",
       "   status: 0\n",
       "  success: True\n",
       "        t: array([  0.,   1.,   2.,   3.,   4.,   5.,   6.,   7.,   8.,   9.,  10.,\n",
       "        11.,  12.,  13.,  14.,  15.,  16.,  17.,  18.,  19.,  20.,  21.,\n",
       "        22.,  23.,  24.,  25.,  26.,  27.,  28.,  29.,  30.,  31.,  32.,\n",
       "        33.,  34.,  35.,  36.,  37.,  38.,  39.,  40.,  41.,  42.,  43.,\n",
       "        44.,  45.,  46.,  47.,  48.,  49.,  50.,  51.,  52.,  53.,  54.,\n",
       "        55.,  56.,  57.,  58.,  59.,  60.,  61.,  62.,  63.,  64.,  65.,\n",
       "        66.,  67.,  68.,  69.,  70.,  71.,  72.,  73.,  74.,  75.,  76.,\n",
       "        77.,  78.,  79.,  80.,  81.,  82.,  83.,  84.,  85.,  86.,  87.,\n",
       "        88.,  89.,  90.,  91.,  92.,  93.,  94.,  95.,  96.,  97.,  98.,\n",
       "        99., 100.])\n",
       " t_events: None\n",
       "        y: array([[1000.        ,  951.2294224 ,  904.8374182 ,  860.68433615,\n",
       "         818.64915883,  778.6441698 ,  740.58347051,  704.38298013,\n",
       "         669.96043558,  637.2353915 ,  606.12922025,  576.56511194,\n",
       "         548.46807438,  521.76493313,  496.38433148,  472.25673044,\n",
       "         449.31440875,  427.49146287,  406.72380701,  386.9491731 ,\n",
       "         368.10711079,  350.14992414,  333.05441556,  316.78501331,\n",
       "         301.30633737,  286.58381186,  272.58366496,  259.27292901,\n",
       "         246.61944044,  234.59183978,  223.15957168,  212.29288492,\n",
       "         201.96283235,  192.14127097,  182.80086186,  173.91507023,\n",
       "         165.4581654 ,  157.40522079,  149.73241433,  142.42483564,\n",
       "         135.46915576,  128.85048419,  122.5542633 ,  116.56626833,\n",
       "         110.87260741,  105.45972152,  100.31438454,   95.42370323,\n",
       "          90.7751172 ,   86.35639895,   82.15565387,   78.16132019,\n",
       "          74.36216906,   70.74730448,   67.30616332,   64.02851534,\n",
       "          60.90546536,   57.93206717,   55.10223359,   52.40983676,\n",
       "          49.84888713,   47.41353349,   45.09806292,   42.89690087,\n",
       "          40.80461108,   38.81589563,   36.92559494,   35.12868771,\n",
       "          33.42029102,   31.79566024,   30.25018907,   28.77940954,\n",
       "          27.37899201,   26.04475248,   24.773827  ,   23.56404194,\n",
       "          22.41281828,   21.31763446,   20.27602641,   19.28558749,\n",
       "          18.34396857,   17.44887795,   16.59808142,   15.78940222,\n",
       "          15.02072106,   14.28997612,   13.59516306,   12.93433498,\n",
       "          12.30560247,   11.70713356,   11.13715377,   10.59410914,\n",
       "          10.07738464,    9.58585412,    9.11831177,    8.67359835,\n",
       "           8.25060124,    7.84825439,    7.46553834,    7.10148025,\n",
       "           6.75515383]])\n",
       " y_events: None"
      ]
     },
     "execution_count": 40,
     "metadata": {},
     "output_type": "execute_result"
    }
   ],
   "source": [
    "C_0=[1000] #initial Condition\n",
    "tspan = [0, 100] #Time span\n",
    "output_times = np.linspace(0,100,101)\n",
    "C_solver = solve_ivp(decay, tspan, C_0, t_eval=output_times)\n",
    "C_solver"
   ]
  },
  {
   "cell_type": "markdown",
   "metadata": {},
   "source": [
    "Let's plot our original loop plot, the analytical plot, and this `solve_ivp` plot:"
   ]
  },
  {
   "cell_type": "code",
   "execution_count": 41,
   "metadata": {},
   "outputs": [
    {
     "data": {
      "text/plain": [
       "array([[1000.        ,  951.2294224 ,  904.8374182 ,  860.68433615,\n",
       "         818.64915883,  778.6441698 ,  740.58347051,  704.38298013,\n",
       "         669.96043558,  637.2353915 ,  606.12922025,  576.56511194,\n",
       "         548.46807438,  521.76493313,  496.38433148,  472.25673044,\n",
       "         449.31440875,  427.49146287,  406.72380701,  386.9491731 ,\n",
       "         368.10711079,  350.14992414,  333.05441556,  316.78501331,\n",
       "         301.30633737,  286.58381186,  272.58366496,  259.27292901,\n",
       "         246.61944044,  234.59183978,  223.15957168,  212.29288492,\n",
       "         201.96283235,  192.14127097,  182.80086186,  173.91507023,\n",
       "         165.4581654 ,  157.40522079,  149.73241433,  142.42483564,\n",
       "         135.46915576,  128.85048419,  122.5542633 ,  116.56626833,\n",
       "         110.87260741,  105.45972152,  100.31438454,   95.42370323,\n",
       "          90.7751172 ,   86.35639895,   82.15565387,   78.16132019,\n",
       "          74.36216906,   70.74730448,   67.30616332,   64.02851534,\n",
       "          60.90546536,   57.93206717,   55.10223359,   52.40983676,\n",
       "          49.84888713,   47.41353349,   45.09806292,   42.89690087,\n",
       "          40.80461108,   38.81589563,   36.92559494,   35.12868771,\n",
       "          33.42029102,   31.79566024,   30.25018907,   28.77940954,\n",
       "          27.37899201,   26.04475248,   24.773827  ,   23.56404194,\n",
       "          22.41281828,   21.31763446,   20.27602641,   19.28558749,\n",
       "          18.34396857,   17.44887795,   16.59808142,   15.78940222,\n",
       "          15.02072106,   14.28997612,   13.59516306,   12.93433498,\n",
       "          12.30560247,   11.70713356,   11.13715377,   10.59410914,\n",
       "          10.07738464,    9.58585412,    9.11831177,    8.67359835,\n",
       "           8.25060124,    7.84825439,    7.46553834,    7.10148025,\n",
       "           6.75515383]])"
      ]
     },
     "execution_count": 41,
     "metadata": {},
     "output_type": "execute_result"
    }
   ],
   "source": [
    "C_solver.y"
   ]
  },
  {
   "cell_type": "code",
   "execution_count": 48,
   "metadata": {},
   "outputs": [
    {
     "data": {
      "text/plain": [
       "<matplotlib.legend.Legend at 0x7f14ce5985b0>"
      ]
     },
     "execution_count": 48,
     "metadata": {},
     "output_type": "execute_result"
    },
    {
     "data": {
      "image/png": "[encoded data removed]",
      "text/plain": [
       "<Figure size 432x288 with 1 Axes>"
      ]
     },
     "metadata": {
      "needs_background": "light"
     },
     "output_type": "display_data"
    }
   ],
   "source": [
    "plt.plot(t, C, 'b-')\n",
    "plt.plot(t, C_analytical, 'g-')\n",
    "plt.plot(C_solver.t, C_solver.y[0], 'r-')\n",
    "plt.legend(['solve_ivp', 'for loop', 'analytical'])"
   ]
  },
  {
   "cell_type": "markdown",
   "metadata": {},
   "source": [
    "We can see that the analytical line and the `solve_ivp` line line up nearly perfectly. You likely only see the red line since it is overlapping the green line. You can remove the analytical line plot to verify.   So, we can use solve_ivp to define these functions."
   ]
  }
 ],
 "metadata": {
  "kernelspec": {
   "display_name": "Python 3",
   "language": "python",
   "name": "python3"
  },
  "language_info": {
   "codemirror_mode": {
    "name": "ipython",
    "version": 3
   },
   "file_extension": ".py",
   "mimetype": "text/x-python",
   "name": "python",
   "nbconvert_exporter": "python",
   "pygments_lexer": "ipython3",
   "version": "3.8.8"
  }
 },
 "nbformat": 4,
 "nbformat_minor": 4
}
