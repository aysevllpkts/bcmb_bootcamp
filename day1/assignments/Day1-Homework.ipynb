{
 "cells": [
  {
   "cell_type": "markdown",
   "id": "150a881a-49a9-47dd-9f49-a494c5096ba1",
   "metadata": {},
   "source": [
    "Day 1 - Homework assignments\n",
    "\n",
    "1. Write a bash script that takes as input, two integers and then tests for which one is larger.\n",
    "\n",
    "2. Write a bash script that takes as input one integer and returns a random DNA sequence of that length."
   ]
  }
 ],
 "metadata": {
  "kernelspec": {
   "display_name": "Python 3",
   "language": "python",
   "name": "python3"
  },
  "language_info": {
   "codemirror_mode": {
    "name": "ipython",
    "version": 3
   },
   "file_extension": ".py",
   "mimetype": "text/x-python",
   "name": "python",
   "nbconvert_exporter": "python",
   "pygments_lexer": "ipython3",
   "version": "3.7.6"
  }
 },
 "nbformat": 4,
 "nbformat_minor": 5
}
