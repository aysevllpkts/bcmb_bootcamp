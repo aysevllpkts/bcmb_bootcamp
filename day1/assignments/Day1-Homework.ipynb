{
 "cells": [
  {
   "cell_type": "markdown",
   "id": "13c8f3d6",
   "metadata": {},
   "source": [
    "# Day 1 - Homework quiz and problem set\n",
    "\n",
    "<style type=\"text/css\">\n",
    "    ol { list-style-type: upper-alpha; }\n",
    "</style>"
   ]
  },
  {
   "cell_type": "markdown",
   "id": "01caeff1",
   "metadata": {},
   "source": [
    "1. What syntax is used for “greater than” in bash scripting?\n",
    "  <ol>\n",
    "    <li>-lt</li>\n",
    "    <li>-gt</li>\n",
    "    <li>-gte</li>\n",
    "    <li>\\></li>"
   ]
  },
  {
   "cell_type": "markdown",
   "id": "1a44b024",
   "metadata": {},
   "source": [
    "Answer: "
   ]
  },
  {
   "cell_type": "markdown",
   "id": "5a6edc0c",
   "metadata": {},
   "source": [
    "2. What components make up a conditional in bash scripting?\n",
    "<ol>\n",
    "    <li>if, then, else, and endif\n",
    "    <li>if, then, else, and fi\n",
    "    <li>if, else, and fi\n",
    "    <li>if, then, otherwise, and fi\n",
    "</ol>"
   ]
  },
  {
   "cell_type": "markdown",
   "id": "257d7e8e",
   "metadata": {},
   "source": [
    "Answer:"
   ]
  },
  {
   "cell_type": "markdown",
   "id": "eb189b24",
   "metadata": {},
   "source": [
    "3. How do you read arguments in a bash (shell) program?\n",
    "<ol>\n",
    "    <li>\\$0 would be the first line argument, \\$1 would be the second command-line argument, \\$2 the third, and so on\n",
    "    <li>\\$1 would be the first command-line argument, \\$2 the second, and so on \\$0 is the name of the script or function\n",
    "    <li>Both a and b are correct\n",
    "    <li>Both a and b are incorrect\n",
    "</ol>"
   ]
  },
  {
   "cell_type": "markdown",
   "id": "814aa2ed",
   "metadata": {},
   "source": [
    "Answer:"
   ]
  },
  {
   "cell_type": "markdown",
   "id": "8b153d04",
   "metadata": {},
   "source": [
    "4. To assign execute permission to the user (owner) for a file named file01.txt, which of the following command will be used?\n",
    "<ol>\n",
    "<li>chmod u+r file01.txt\n",
    "<li>chmod u+w file01.txt\n",
    "<li>chmod u-x file01.txt\n",
    "<li>chmod u+x file01.txt\n",
    "</ol>"
   ]
  },
  {
   "cell_type": "markdown",
   "id": "dc76c4bb",
   "metadata": {},
   "source": [
    "Answer:"
   ]
  },
  {
   "cell_type": "markdown",
   "id": "83f6b00a",
   "metadata": {},
   "source": [
    "5. To check more than two conditions, ___ is used with if-else statements.\n",
    "<ol>\n",
    "    <li>while\n",
    "    <li>for\n",
    "    <li>elif\n",
    "    <li>also\n",
    "</ol>"
   ]
  },
  {
   "cell_type": "markdown",
   "id": "f1c945eb",
   "metadata": {},
   "source": [
    "Answer:"
   ]
  },
  {
   "cell_type": "markdown",
   "id": "1d551319",
   "metadata": {},
   "source": [
    "6. Every `if` is closed with a corresponding ____\n",
    "<ol>\n",
    "    <li>else\n",
    "    <li>fi\n",
    "    <li>if\n",
    "    <li>else if\n",
    "</ol>"
   ]
  },
  {
   "cell_type": "markdown",
   "id": "dcc4eacd",
   "metadata": {},
   "source": [
    "Answer:"
   ]
  },
  {
   "cell_type": "markdown",
   "id": "e30f50c6",
   "metadata": {},
   "source": [
    "7. To perform decision depending on the fulfillment of certain criteria, ____ is used.\n",
    "<ol>\n",
    "    <li>if\n",
    "    <li>else\n",
    "    <li>for\n",
    "    <li>if and else\n",
    "</ol>"
   ]
  },
  {
   "cell_type": "markdown",
   "id": "7a28a261",
   "metadata": {},
   "source": [
    "Answer:"
   ]
  },
  {
   "cell_type": "markdown",
   "id": "d49db6a2",
   "metadata": {},
   "source": [
    "8. To check more than two conditions, ___ is used with if-else statements.\n",
    "<ol>\n",
    "    <li>while\n",
    "    <li>for\n",
    "    <li>elif\n",
    "    <li>for\n",
    "</ol>"
   ]
  },
  {
   "cell_type": "markdown",
   "id": "91fa9a63",
   "metadata": {},
   "source": [
    "Answer:"
   ]
  },
  {
   "cell_type": "markdown",
   "id": "8ea86cd6",
   "metadata": {},
   "source": [
    "9. Suppose `x=10`, then what will be the value of `x$x`?\n",
    "<ol>\n",
    "    <li>undefined\n",
    "    <li>erroneous\n",
    "    <li>100\n",
    "    <li>x10\n",
    "</ol>"
   ]
  },
  {
   "cell_type": "markdown",
   "id": "7e248f7a",
   "metadata": {},
   "source": [
    "10. Write a bash script that takes as input, two integers and then tests for which one is larger. Paste the entire contents of your script below."
   ]
  },
  {
   "cell_type": "code",
   "execution_count": null,
   "id": "9a40a92f",
   "metadata": {},
   "outputs": [],
   "source": []
  },
  {
   "cell_type": "markdown",
   "id": "b18709c3",
   "metadata": {},
   "source": [
    "11. Write a bash script that takes as input one integer and returns a random DNA sequence of that length. Paste the entire contents of your script below."
   ]
  },
  {
   "cell_type": "code",
   "execution_count": null,
   "id": "903d9f06",
   "metadata": {},
   "outputs": [],
   "source": []
  }
 ],
 "metadata": {
  "kernelspec": {
   "display_name": "Python 3",
   "language": "python",
   "name": "python3"
  },
  "language_info": {
   "codemirror_mode": {
    "name": "ipython",
    "version": 3
   },
   "file_extension": ".py",
   "mimetype": "text/x-python",
   "name": "python",
   "nbconvert_exporter": "python",
   "pygments_lexer": "ipython3",
   "version": "3.7.6"
  }
 },
 "nbformat": 4,
 "nbformat_minor": 5
}
