{
 "cells": [
  {
   "cell_type": "markdown",
   "metadata": {},
   "source": [
    "# Day1 - Afternoon - More *nix"
   ]
  },
  {
   "cell_type": "markdown",
   "metadata": {},
   "source": [
    "_Note: this is a static notebook (ie. not interactive). All exercises and commands in this session will be performed directly in a terminal window.  To launch a new terminal, click on `File>New>Terminal`._"
   ]
  },
  {
   "cell_type": "markdown",
   "metadata": {},
   "source": [
    "## Bash (shell) scripting\n",
    "\n",
    "* manage complex workflows more easily\n",
    "* work on a cluster\n",
    "    - distribute multiple similar jobs\n",
    "    - good responsible coding practice\n",
    "* beginning of reproducible research"
   ]
  },
  {
   "cell_type": "markdown",
   "metadata": {},
   "source": [
    "### A simple command"
   ]
  },
  {
   "cell_type": "markdown",
   "metadata": {},
   "source": [
    "```\n",
    "$ echo 'Hello, world!'\n",
    "```"
   ]
  },
  {
   "cell_type": "markdown",
   "metadata": {},
   "source": [
    "### Make it a script"
   ]
  },
  {
   "cell_type": "markdown",
   "metadata": {},
   "source": [
    "how many genes are annotated on chromosome 19 in our file, hg38genes.txt?\n",
    "\n",
    "remember pipes?\n",
    "\n",
    "`$ grep chr19 hg38genes.txt | wc -l`\n",
    "\n",
    "## Looping with a script\n",
    "\n",
    "Now lets get the number of genes on chromosomes 11, 12, 13, and 14. We could do each separately but that’s more typing and risks mistakes.\n",
    "\n",
    "Let’s write a script for this . . ."
   ]
  },
  {
   "cell_type": "markdown",
   "metadata": {},
   "source": [
    "```\n",
    "$ nano countgenes.sh\n",
    "\n",
    "#!/bin/bash\n",
    "\n",
    "for i in chr11 chr12 chr13 chr14\n",
    "do\n",
    "   echo $i\n",
    "   grep $i hg38genes.txt | wc -l\n",
    "done\n",
    "```"
   ]
  },
  {
   "cell_type": "markdown",
   "metadata": {},
   "source": [
    "### A script with terminal input"
   ]
  },
  {
   "cell_type": "markdown",
   "metadata": {},
   "source": [
    "```\n",
    "$ nano inputscript.sh\n",
    "\n",
    "#!/bin/bash\n",
    "echo \"this script takes input from the terminal.\"\n",
    "echo \"type an integer between 1 and 10:\"\n",
    "read MYNUM\n",
    "echo \"you typed $MYNUM\"\n",
    "```"
   ]
  },
  {
   "cell_type": "markdown",
   "metadata": {},
   "source": [
    "### Practice exercises\n",
    "\n",
    "1. Write a script that uses grep, cut, sort, and uniq with pipes to print the number of genes in hg38genes.txt annotated on each chromosome on the plus strand and the number of genes on the minus strand, for chromosomes 14, 15, 16, and 17.\n",
    "\n",
    "2. Write a script that accepts terminal input and that will count the number of genes on the chromosome specified. The input should be only numerical, so your program will need to prepend the string chr. Be sure to use the -w option with grep so that chr1 really does only retrieve chr1 and not chr10, chr11 etc."
   ]
  },
  {
   "cell_type": "markdown",
   "metadata": {},
   "source": [
    "## While loops\n",
    "\n",
    "`while` will continue executing the code in the loop as long as its condition is true:\n",
    "\n",
    "```\n",
    "$ nano while.sh\n",
    "\n",
    "VAR=1\n",
    "while [ $VAR -lt 5 ]\n",
    "do\n",
    "    echo \"VAR=$VAR\"\n",
    "    VAR=$[ VAR+1 ]\n",
    "done\n",
    "```\n",
    "\n",
    "NOTE that the test evaluation  [  is actually a program! so you need spaces before and after the square bracket. Possible tests for integers include -eq, -lt, -gt, -le, -ge. Strings can be compared with = and != . Lots of other tests are possible.\n"
   ]
  },
  {
   "cell_type": "markdown",
   "metadata": {},
   "source": [
    "it’s easy to write a while loop that never finishes. Remember control-c will kill a running/runaway process.\n",
    "\n",
    "example of while loop that never terminates:\n",
    "\n",
    "```\n",
    "VAR=1\n",
    "while [ $VAR -lt 5 ]\n",
    "do\n",
    "    echo \"VAR=$VAR\"\n",
    "done\n",
    "```"
   ]
  },
  {
   "cell_type": "markdown",
   "metadata": {},
   "source": [
    "## Conditions\n",
    "\n",
    "if-then-else statements are very useful, when you want to execute code only if some condition is met. ‘fi’ terminates the if statement.\n",
    "\n",
    "```\n",
    "VAR=2\n",
    "if [ $VAR -gt 5 ] ; then\n",
    "    echo \"VAR > 5\"\n",
    "else\n",
    "    echo \"VAR <= 5\"\n",
    "fi\n",
    "```"
   ]
  },
  {
   "cell_type": "markdown",
   "metadata": {},
   "source": [
    "additional “else” statements can be added, using elif:\n",
    "\n",
    "```\n",
    "VAR=2\n",
    "if [ $VAR -gt 5 ] ; then\n",
    "    echo \"VAR > 5\"\n",
    "elif [ $VAR -lt 0 ]; then\n",
    "    echo \"VAR < 0\"\n",
    "else\n",
    "    echo \"0 <= VAR <= 5\"\n",
    "fi\n",
    "```"
   ]
  },
  {
   "cell_type": "markdown",
   "metadata": {},
   "source": [
    "## Conditional arguments\n",
    "\n",
    "```\n",
    "$ nano args.sh\n",
    "\n",
    "#!/bin/bash\n",
    "\n",
    "echo \"the number of arguments is $#.\"\n",
    "echo \"the name of the program is $0.\"\n",
    "echo \"the first argument is $1.\"\n",
    "echo \"\\$@ is a variable with all arguments: $@\"\n",
    "\n",
    "\n",
    "$ ./args.sh argument1 arg2 another argument\n",
    "```"
   ]
  },
  {
   "cell_type": "markdown",
   "metadata": {},
   "source": [
    "# awk\n",
    "awk is an incredibly powerful unix utility for manipulating data/files!\n",
    "\n",
    "```\n",
    "$ awk '{print $1}' hg38genes.txt  # assumes tab/space delimited columns\n",
    "$ awk '{if ($1==\"chr2\") print $5}' hg38genes.txt\n",
    "$ awk '{if ($5 ~ /MIR/) print}' hg38genes.txt \n",
    "$ awk '{if ($5 ~ /MIR/ && $1!=\"chr3\") print}' hg38genes.txt\n",
    "```"
   ]
  },
  {
   "cell_type": "markdown",
   "metadata": {},
   "source": [
    "# sed\n",
    "The unix string editor, is also a very useful tool. There are many modes but one of the most useful works like find-and-substitute, where the pattern to find is given first and the substitution next.\n",
    "\n",
    "```\n",
    "$ sed -e s/chr/CHR/ hg38genes.txt\n",
    "```\n",
    "\n",
    "This will find the first occurrence of chr in each line and substitute it with CHR. To substitute all occurrences, specify ‘global’: \n",
    "\n",
    "```\n",
    "$ sed -e s/chr/CHR/g hg38genes.txt\n",
    "```\n"
   ]
  },
  {
   "cell_type": "markdown",
   "metadata": {},
   "source": [
    "### Practice Exercises"
   ]
  }
 ],
 "metadata": {
  "kernelspec": {
   "display_name": "Python 3",
   "language": "python",
   "name": "python3"
  },
  "language_info": {
   "codemirror_mode": {
    "name": "ipython",
    "version": 3
   },
   "file_extension": ".py",
   "mimetype": "text/x-python",
   "name": "python",
   "nbconvert_exporter": "python",
   "pygments_lexer": "ipython3",
   "version": "3.6.11"
  }
 },
 "nbformat": 4,
 "nbformat_minor": 4
}
