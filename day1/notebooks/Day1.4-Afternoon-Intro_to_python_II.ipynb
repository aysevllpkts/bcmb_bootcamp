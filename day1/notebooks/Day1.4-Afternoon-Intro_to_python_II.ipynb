{
 "cells": [
  {
   "cell_type": "markdown",
   "metadata": {},
   "source": [
    "# Day1.4 - Introduction to Python II"
   ]
  },
  {
   "cell_type": "markdown",
   "metadata": {},
   "source": [
    "## Functions\n",
    "Many times when writing programs, you will find yourself doing the same task(s) over and over again. Functions allow you to create reuseable pieces of your programs so you can run a block of specificed code anywhere in your program, as many times as you need, with any modifications or variables that you might need. As an example, lets start by figuring out what the GC% is for a given nucleic acid string.  To do this, we will need to learn the length of the oligonucleotide sequence, as well as the number of 'G' and 'C' bases.  Lets start by figuring out a way to do this for one DNA sequence."
   ]
  },
  {
   "cell_type": "code",
   "execution_count": 3,
   "metadata": {},
   "outputs": [
    {
     "name": "stdout",
     "output_type": "stream",
     "text": [
      "Length of dna: 51\n",
      "Number of Gs: 13\n",
      "Number of Cs: 12\n",
      "49.01960784313725\n"
     ]
    }
   ],
   "source": [
    "dna = 'ATTAGCGTATTCGAGCTATCGATCTAGCGAGCTAGCTATCAGCGACGTACG'\n",
    "\n",
    "dnaLength = len(dna)\n",
    "print(f'Length of dna: {dnaLength}')\n",
    "\n",
    "nG = ??\n",
    "print(f'Number of Gs: {nG}')\n",
    "\n",
    "nC = ??\n",
    "print(f'Number of Cs: {nC}')\n",
    "\n",
    "nGC = ??\n",
    "\n",
    "GC_content = (nGC/dnaLength)*100\n",
    "print(GC_content)"
   ]
  },
  {
   "cell_type": "markdown",
   "metadata": {},
   "source": [
    "While that's not terribly tedious, what if we needed to do this for 10,000 different dna sequences? We will definitely need a way to 'functionalize' this process.  So lets create a function to do all of this for us. We start by defining the function with the `def` statement to give the function a name, followed by a pair of parentheses `()` where we can name a few 'parameters' (another name for variables passed to a function) that we will use within our function. This is then followed by the code block to execute when we 'call' the function. At the end of the function, we specify what values we want to return with `return()`."
   ]
  },
  {
   "cell_type": "code",
   "execution_count": null,
   "metadata": {},
   "outputs": [],
   "source": [
    "def getGC(seq):\n",
    "    dnaLength = len(seq)\n",
    "    nG = seq.count('G')\n",
    "    nC = seq.count('C')\n",
    "    nGC = nG + nC\n",
    "    GC_content = (nGC/dnaLength)*100\n",
    "    return(GC_content)"
   ]
  },
  {
   "cell_type": "markdown",
   "metadata": {},
   "source": [
    "Once we've created our function, we can then call it as many times as we want with different values passed to the `seq` argument as needed. ** Note the terminology difference: the names given in the function definition are called parameters, but the values you supply in the function call are called arguments. **"
   ]
  },
  {
   "cell_type": "code",
   "execution_count": null,
   "metadata": {},
   "outputs": [],
   "source": [
    "gc = getGC(dna)\n",
    "print(gc)"
   ]
  },
  {
   "cell_type": "markdown",
   "metadata": {},
   "source": [
    "Now try and use your function within a `for` loop to iterate over a `list` of different DNA sequences"
   ]
  },
  {
   "cell_type": "code",
   "execution_count": null,
   "metadata": {},
   "outputs": [],
   "source": [
    "\n",
    "myDNASet = [\n",
    "            'ACTGATGCTAGCTGACTGATCTAGCTGA',\n",
    "            'TGCATTTTCGAGCTATCGAGCATTCTACGTACT',\n",
    "            'CACTATCTACGGATCGGAGCGGATTCGTAGCTATGC',\n",
    "            'GTATCGGATCTAGCGGCGGCATTATCG'\n",
    "           ] # this is a list of strings, each containing a DNA sequence.\n",
    "\n",
    "for ...\n"
   ]
  },
  {
   "cell_type": "markdown",
   "metadata": {},
   "source": [
    "When you declare variables within a function definition, they become completely isolated from any variables you may have created outside the definition. In this case, all variables created within a function definition are considered 'local'.  You cannot access them from outside the function definition, and they don't override any other variables either. This is called the 'scope' of a variable. All variables have the scope of the code block in which they are declared. There are ways to change this, but for now we just need to realize that there are in fact different scopes."
   ]
  },
  {
   "cell_type": "markdown",
   "metadata": {},
   "source": [
    "When defining a function, you may often want to set default values for your parameters, and or make some parameters optional. You can also use 'keyword' arguments can specify them directly when you call a function like so:"
   ]
  },
  {
   "cell_type": "code",
   "execution_count": null,
   "metadata": {},
   "outputs": [],
   "source": [
    "def checkDNA(seq, query='AGC'): #checks to see if the DNA sequence has a specific substring\n",
    "    return(query in seq)\n",
    "\n",
    "print(checkDNA(dna))\n",
    "\n",
    "print(checkDNA(dna,query='TGCA'))\n",
    "    "
   ]
  },
  {
   "cell_type": "markdown",
   "metadata": {},
   "source": [
    "Now lets try and create a new function that takes a DNA sequence as an argument and calculates the melting temperature (the temperature at which two DNA strands will separate from each other). This property is a function of the DNA sequence itself. For sequences less than 14 nucleotides the formula is: `Tm= (A+T) * 2 + (G+C) * 4`. For sequences longer than 13 nucleotides in length, there is a different equation: `Tm= 64.9 +41*(G+C-16.4)/(A+T+G+C)`. In each equation, `A, T, G, and C` correspond to the number of each nucleotide in the DNA string. Can you define a single function that can test a DNA sequence of any length?"
   ]
  },
  {
   "cell_type": "code",
   "execution_count": null,
   "metadata": {},
   "outputs": [],
   "source": [
    "# Define and use your function below. Test your function by looping through the sequences in the file 'test.fa'\n",
    "\n",
    "\n",
    "\n",
    "\n"
   ]
  },
  {
   "cell_type": "markdown",
   "metadata": {},
   "source": [
    "## Importing modules\n",
    "One of the more useful features of python, as with many other languages, is that you can add features, tools, data, etc to extend the functionality of python using _modules_. Python has a very large and diverse user base that has already developed hundreds (thousands?) of modules to perform broadly useful tasks, or very specialized tasks for different needs. You can also develop your own modules to split projects/workflows in to manageable pieces for easier maintenance and reusability.\n",
    "\n",
    "A module is nothing more than python code. Within a module, you can define classes (objects), functions, and variables. A module is a file containing Python definitions and statements. The file name is the module name with the suffix .py appended. Any existing python file can be referenced as a module and the elements within can then be used. For example, if you have a python file named `sequencing.py` you can import the file/module with the name `sequencing`.\n",
    "\n",
    "To use a module in your code you must first tell python where to find the module. To do this, we use the command `import`"
   ]
  },
  {
   "cell_type": "code",
   "execution_count": null,
   "metadata": {},
   "outputs": [],
   "source": [
    "import math"
   ]
  },
  {
   "cell_type": "markdown",
   "metadata": {},
   "source": [
    "This tells the python interpreter to load all of the functions and elements found in the `math` module into the current session. `math` is a 'standard module' that is included with python.  To use a specific function or variable defined in `math` you can call it using the dot (`.`) operator along with the module name"
   ]
  },
  {
   "cell_type": "code",
   "execution_count": null,
   "metadata": {},
   "outputs": [],
   "source": [
    "a = 25\n",
    "math.sqrt(a)"
   ]
  },
  {
   "cell_type": "code",
   "execution_count": null,
   "metadata": {},
   "outputs": [],
   "source": [
    "math.cos(a)"
   ]
  },
  {
   "cell_type": "code",
   "execution_count": null,
   "metadata": {},
   "outputs": [],
   "source": [
    "math.factorial(a)"
   ]
  },
  {
   "cell_type": "markdown",
   "metadata": {},
   "source": [
    "It is important to be aware of modules as they can often save you from having to re-write or re-invent code that others have already solved. It is arguably the basis for the relevance of python as a programming language in the sciences as well!"
   ]
  },
  {
   "cell_type": "markdown",
   "metadata": {},
   "source": [
    "There are a few syntactically different ways to import a module. You've already seen the direct import method above, but you can also import only the functions you need from a module by using the `from .. import` syntax:"
   ]
  },
  {
   "cell_type": "code",
   "execution_count": null,
   "metadata": {},
   "outputs": [],
   "source": [
    "from math import log10, log\n",
    "log10(a)"
   ]
  },
  {
   "cell_type": "markdown",
   "metadata": {},
   "source": [
    "Here we've imported just two of the functions in the `math` module. Notice that this time, you don't have to use `math.` before calling these functions. You can access them directly without using the module name."
   ]
  },
  {
   "cell_type": "markdown",
   "metadata": {},
   "source": [
    "You can rename the module for brevity or any other reason by using `as` with your import statement."
   ]
  },
  {
   "cell_type": "code",
   "execution_count": null,
   "metadata": {},
   "outputs": [],
   "source": [
    "import datetime as dt\n",
    "\n",
    "today = dt.date.today()\n",
    "print(\"Today is\", today)"
   ]
  },
  {
   "cell_type": "markdown",
   "metadata": {},
   "source": [
    "Here, we imported the datetime module as `dt` . Notice that that the `dt` module defines a class called `date`. Then, we used the `date.today()` function to get the current local date, which is then printed with some accessory text using the `print()` function."
   ]
  },
  {
   "cell_type": "markdown",
   "metadata": {},
   "source": [
    "The `import` function performs two operations: 1) a _search_ for a given package/module and 2) the binding of that module (and its functions/variables/classes) to the current python session. When a module is imported, the interpreter first searches for a built-in module with that name. If it doesn't find one, it then looks for a file with the module name and `.py` in a list of directories identified by the `sys.path` variable"
   ]
  },
  {
   "cell_type": "code",
   "execution_count": 33,
   "metadata": {},
   "outputs": [
    {
     "data": {
      "text/plain": [
       "['',\n",
       " '/Users/loyalgoff/Google Drive/Work/Goff Lab/Teaching/BCMB/bcmb_bootcamp2020/day1/notebooks',\n",
       " '/Users/loyalgoff/anaconda3/lib/python37.zip',\n",
       " '/Users/loyalgoff/anaconda3/lib/python3.7',\n",
       " '/Users/loyalgoff/anaconda3/lib/python3.7/lib-dynload',\n",
       " '/Users/loyalgoff/anaconda3/lib/python3.7/site-packages',\n",
       " '/Users/loyalgoff/anaconda3/lib/python3.7/site-packages/aeosa',\n",
       " '/Users/loyalgoff/anaconda3/lib/python3.7/site-packages/IPython/extensions',\n",
       " '/Users/loyalgoff/.ipython']"
      ]
     },
     "execution_count": 33,
     "metadata": {},
     "output_type": "execute_result"
    }
   ],
   "source": [
    "import sys\n",
    "sys.path"
   ]
  },
  {
   "cell_type": "markdown",
   "metadata": {},
   "source": [
    "## Working with files\n",
    "\n",
    "### Reading/opening files\n",
    "Reading and writing to files in python is achieved through the `open()` function. When you 'open' a file, you are creating a device to communicate with the file on disk. We will need to specify how we would like to interact with the file.  Do we want to read the file ('r') or write to the file ('w'). This is the 'mode' that we will need to specify when we make the call to `open()`"
   ]
  },
  {
   "cell_type": "code",
   "execution_count": null,
   "metadata": {},
   "outputs": [],
   "source": [
    "file = open('Foxp1.gbk',mode = 'r')\n",
    "\n",
    "# iterate through all lines of a file\n",
    "for line in file:\n",
    "    print(line)"
   ]
  },
  {
   "cell_type": "code",
   "execution_count": null,
   "metadata": {},
   "outputs": [],
   "source": [
    "# Read only the first n lines of a file\n",
    "nLines = 5\n",
    "i=0\n",
    "\n",
    "# Need to re-open the file since we've already iterated through it completely\n",
    "file = open('Foxp1.gbk',mode = 'r')\n",
    "\n",
    "while i < nLines:\n",
    "    print(next(file))\n",
    "    i += 1"
   ]
  },
  {
   "cell_type": "markdown",
   "metadata": {},
   "source": [
    "### Fetching files/data from the internet"
   ]
  },
  {
   "cell_type": "code",
   "execution_count": null,
   "metadata": {},
   "outputs": [],
   "source": [
    "## lets deconstruct what's happening here.\n",
    "\n",
    "import urllib\n",
    "import gzip\n",
    "\n",
    "url = \"https://hgdownload.soe.ucsc.edu/goldenPath/sacCer3/chromosomes/chrIII.fa.gz\"\n",
    "urllib.request.urlretrieve(url, \"chrIII.fa.gz\")\n",
    "\n",
    "chrIII = gzip.open('chrIII.fa.gz',mode = 'rb') # note the additional use of 'b' here meaning we are going to 'read' a 'binary' (zipped) file.\n",
    "\n",
    "print(next(chrIII))\n",
    "\n",
    "numLines = 10\n",
    "\n",
    "head = [next(chrIII) for x in range(numLines)] # Using list comprehension to return a list of values from some operation\n",
    "\n",
    "print(head)\n",
    "    \n",
    "for line in head:\n",
    "    print(line)\n"
   ]
  },
  {
   "cell_type": "markdown",
   "metadata": {},
   "source": [
    "### Writing output to a file\n",
    "When we write to a file, we need to indicate whether we are going to overwrite anything in an existing file, or append (`mode = a`) the content to the end of the existing file. When we are done with a file, we should always close it with `close()`"
   ]
  },
  {
   "cell_type": "code",
   "execution_count": null,
   "metadata": {},
   "outputs": [],
   "source": []
  },
  {
   "cell_type": "code",
   "execution_count": 31,
   "metadata": {},
   "outputs": [
    {
     "name": "stdout",
     "output_type": "stream",
     "text": [
      "Here is my awesome file content!\n",
      "\n",
      "It's probably the most important information I'll need for my thesis!\n",
      "\n",
      "Gapdh\n",
      "\n",
      "Mef2c\n",
      "\n",
      "Pax6\n",
      "\n",
      "Cxcl1\n",
      "\n",
      "Msi1\n",
      "\n",
      "I forgot to add this as well\n",
      "\n"
     ]
    }
   ],
   "source": [
    "file = open('myOutput.txt','w')\n",
    "file.write(\"Here is my awesome file content!\\n\")\n",
    "file.write(\"It's probably the most important information I'll need for my thesis!\\n\")\n",
    "for gene in genes:\n",
    "    file.write(f'{gene}\\n')\n",
    "file.close()\n",
    "\n",
    "file = open('myOutput.txt','a') # Try changing the mode from 'a' to 'w'\n",
    "file.write(\"I forgot to add this as well\\n\")\n",
    "file.close()\n",
    "\n",
    "file = open('myOutput.txt','r')\n",
    "\n",
    "for line in file:\n",
    "    print(line)\n"
   ]
  },
  {
   "cell_type": "markdown",
   "metadata": {},
   "source": [
    "## Intro to Python Scripting\n",
    "Now we're going to tie all of this together into a python script that is a self-contained program. First, lets figure out what our objective(s) are.\n"
   ]
  },
  {
   "cell_type": "markdown",
   "metadata": {},
   "source": []
  },
  {
   "cell_type": "markdown",
   "metadata": {},
   "source": []
  },
  {
   "cell_type": "code",
   "execution_count": null,
   "metadata": {},
   "outputs": [],
   "source": []
  }
 ],
 "metadata": {
  "kernelspec": {
   "display_name": "Python 3",
   "language": "python",
   "name": "python3"
  },
  "language_info": {
   "codemirror_mode": {
    "name": "ipython",
    "version": 3
   },
   "file_extension": ".py",
   "mimetype": "text/x-python",
   "name": "python",
   "nbconvert_exporter": "python",
   "pygments_lexer": "ipython3",
   "version": "3.6.11"
  }
 },
 "nbformat": 4,
 "nbformat_minor": 4
}
